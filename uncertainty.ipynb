{
 "cells": [
  {
   "cell_type": "markdown",
   "metadata": {},
   "source": [
    "# Quantifiying Classification Uncertainty in Deep Neural Networks"
   ]
  },
  {
   "cell_type": "markdown",
   "metadata": {},
   "source": [
    "The purpose of this page is to provide an easy-to-run demo with low computational requirements for the ideas proposed in the paper _Evidential Deep Learning to Quantify Classification Uncertainty_. Using MNIST dataset, I demonstrate how to create neural networks that are able to quantify classification uncertainty. The paper can be accesed over http://arxiv.org/abs/1806.01768"
   ]
  },
  {
   "cell_type": "markdown",
   "metadata": {},
   "source": [
    "#  Deep NNs with Softmax function"
   ]
  },
  {
   "cell_type": "markdown",
   "metadata": {},
   "source": [
    "The following lines of codes demonstrate "
   ]
  },
  {
   "cell_type": "code",
   "execution_count": 40,
   "metadata": {
    "collapsed": false
   },
   "outputs": [],
   "source": [
    "#import necessary libraries\n",
    "import tensorflow as tf\n",
    "import numpy as np\n",
    "from matplotlib import pyplot as plt\n",
    "import scipy.ndimage as nd\n",
    "\n",
    "%matplotlib inline\n",
    "import pylab as pl\n",
    "from IPython import display\n",
    "\n",
    "from tensorflow.examples.tutorials.mnist import input_data"
   ]
  },
  {
   "cell_type": "code",
   "execution_count": 5,
   "metadata": {
    "colab": {
     "autoexec": {
      "startup": false,
      "wait_interval": 0
     },
     "base_uri": "https://localhost:8080/",
     "height": 431
    },
    "colab_type": "code",
    "collapsed": false,
    "executionInfo": {
     "elapsed": 14869,
     "status": "ok",
     "timestamp": 1527923826590,
     "user": {
      "displayName": "Murat Sensoy",
      "photoUrl": "https://lh3.googleusercontent.com/a/default-user=s128",
      "userId": "102692943223630372304"
     },
     "user_tz": -180
    },
    "id": "MROFqBJQ1naS",
    "outputId": "56a3f37d-9b80-400b-c6da-ec68bcaa5cd8"
   },
   "outputs": [
    {
     "name": "stdout",
     "output_type": "stream",
     "text": [
      "Extracting MNIST_data/train-images-idx3-ubyte.gz\n",
      "Extracting MNIST_data/train-labels-idx1-ubyte.gz\n",
      "Extracting MNIST_data/t10k-images-idx3-ubyte.gz\n",
      "Extracting MNIST_data/t10k-labels-idx1-ubyte.gz\n"
     ]
    }
   ],
   "source": [
    "# Download MNIST dataset\n",
    "mnist = input_data.read_data_sets('MNIST_data', one_hot=True)\n",
    "\n",
    "K= 10 # number of classes"
   ]
  },
  {
   "cell_type": "code",
   "execution_count": 6,
   "metadata": {
    "collapsed": false
   },
   "outputs": [
    {
     "data": {
      "image/png": "[encoded data removed]",
      "text/plain": [
       "<Figure size 432x288 with 1 Axes>"
      ]
     },
     "metadata": {},
     "output_type": "display_data"
    }
   ],
   "source": [
    "digit_one = mnist.train.images[4].copy()\n",
    "plt.imshow(digit_one.reshape(28,28)) \n",
    "plt.show()"
   ]
  },
  {
   "cell_type": "code",
   "execution_count": 7,
   "metadata": {
    "collapsed": true
   },
   "outputs": [],
   "source": [
    "# define some utility functions\n",
    "def var(name, shape, init=None):\n",
    "    if init is None:\n",
    "        init = tf.truncated_normal_initializer(stddev=(2/shape[0])**0.5)\n",
    "    return tf.get_variable(name=name, shape=shape, dtype=tf.float32,\n",
    "                          initializer=init)\n",
    "\n",
    "def conv(Xin, f, strides=[1, 1, 1, 1], padding='SAME'):\n",
    "    return tf.nn.conv2d(Xin, f, strides, padding)\n",
    "\n",
    "def max_pool(Xin, ksize=[1, 2, 2, 1], strides=[1, 2, 2, 1], padding='SAME'):\n",
    "    return tf.nn.max_pool(Xin, ksize, strides, padding)\n",
    "\n",
    "def rotate_img(x, deg):\n",
    "    import scipy.ndimage as nd\n",
    "    return nd.rotate(x.reshape(28,28),deg,reshape=False).ravel()"
   ]
  },
  {
   "cell_type": "code",
   "execution_count": 92,
   "metadata": {
    "collapsed": true
   },
   "outputs": [],
   "source": [
    "# train LeNet network with softmax\n",
    "def LeNet_softmax(lmb=0.01): \n",
    "    g = tf.Graph()\n",
    "    with g.as_default():\n",
    "        X = tf.placeholder(shape=[None,28*28], dtype=tf.float32)\n",
    "        Y = tf.placeholder(shape=[None,10], dtype=tf.float32)\n",
    "        keep_prob = tf.placeholder(dtype=tf.float32)\n",
    "        \n",
    "        # first hidden layer - conv\n",
    "        W1 = var('W1', [5,5,1,20])\n",
    "        b1 = var('b1', [20])\n",
    "        out1 = max_pool(tf.nn.relu(conv(tf.reshape(X, [-1, 28,28, 1]), \n",
    "                                        W1, strides=[1, 1, 1, 1]) + b1))\n",
    "        # second hidden layer - conv\n",
    "        W2 = var('W2', [5,5,20,50])\n",
    "        b2 = var('b2', [50])\n",
    "        out2 = max_pool(tf.nn.relu(conv(out1, W2, strides=[1, 1, 1, 1]) + b2))\n",
    "        # flatten the output\n",
    "        Xflat = tf.contrib.layers.flatten(out2)\n",
    "        # third hidden layer - fully connected\n",
    "        W3 = var('W3', [Xflat.get_shape()[1].value, 500])\n",
    "        b3 = var('b3', [500]) \n",
    "        out3 = tf.nn.relu(tf.matmul(Xflat, W3) + 3)\n",
    "        out3 = tf.nn.dropout(out3, keep_prob=keep_prob)\n",
    "        #output layer\n",
    "        W4 = var('W4', [500,10])\n",
    "        b4 = var('b4',[10])\n",
    "        logits = tf.matmul(out3, W4) + b4\n",
    "        \n",
    "        prob = tf.nn.softmax(logits=logits) \n",
    "        \n",
    "        loss = tf.reduce_mean(tf.nn.softmax_cross_entropy_with_logits(logits=logits, labels=Y))\n",
    "        l2_loss = (tf.nn.l2_loss(W3)+tf.nn.l2_loss(W4)) * lmb\n",
    "        \n",
    "        step = tf.train.AdamOptimizer().minimize(loss + l2_loss)\n",
    "        \n",
    "        # Calculate accuracy\n",
    "        pred = tf.argmax(logits, 1)\n",
    "        truth = tf.argmax(Y, 1)\n",
    "        acc = tf.reduce_mean(tf.cast(tf.equal(pred, truth), tf.float32))\n",
    "        \n",
    "        return g, step, X, Y, keep_prob, prob, acc, loss"
   ]
  },
  {
   "cell_type": "code",
   "execution_count": 93,
   "metadata": {
    "collapsed": true
   },
   "outputs": [],
   "source": [
    "g1, step1, X1, Y1, keep_prob1, prob1, acc1, loss1 = LeNet_softmax()"
   ]
  },
  {
   "cell_type": "code",
   "execution_count": 169,
   "metadata": {
    "cellView": "code",
    "colab": {
     "autoexec": {
      "startup": false,
      "wait_interval": 0
     }
    },
    "colab_type": "code",
    "collapsed": true,
    "id": "xTVDRunk1Wsq",
    "scrolled": true
   },
   "outputs": [],
   "source": [
    "sess1 = tf.Session(graph=g1)\n",
    "with g1.as_default(): \n",
    "    sess1.run(tf.global_variables_initializer())"
   ]
  },
  {
   "cell_type": "code",
   "execution_count": 170,
   "metadata": {
    "colab": {
     "autoexec": {
      "startup": false,
      "wait_interval": 0
     }
    },
    "colab_type": "code",
    "collapsed": false,
    "id": "QwYkUP6L2q-n",
    "scrolled": true
   },
   "outputs": [
    {
     "name": "stdout",
     "output_type": "stream",
     "text": [
      "epoch 1 - 100%) training accuracy: 0.9235 \t testing accuracy: 0.9255\n",
      "epoch 2 - 100%) training accuracy: 0.9514 \t testing accuracy: 0.9510\n",
      "epoch 3 - 100%) training accuracy: 0.9648 \t testing accuracy: 0.9644\n",
      "epoch 4 - 100%) training accuracy: 0.9699 \t testing accuracy: 0.9685\n",
      "epoch 5 - 100%) training accuracy: 0.9765 \t testing accuracy: 0.9732\n",
      "epoch 6 - 100%) training accuracy: 0.9796 \t testing accuracy: 0.9744\n",
      "epoch 7 - 100%) training accuracy: 0.9800 \t testing accuracy: 0.9766\n",
      "epoch 8 - 100%) training accuracy: 0.9816 \t testing accuracy: 0.9767\n",
      "epoch 9 - 100%) training accuracy: 0.9824 \t testing accuracy: 0.9787\n",
      "epoch 10 - 100%) training accuracy: 0.9863 \t testing accuracy: 0.9812\n",
      "epoch 11 - 100%) training accuracy: 0.9862 \t testing accuracy: 0.9822\n",
      "epoch 12 - 100%) training accuracy: 0.9873 \t testing accuracy: 0.9831\n",
      "epoch 13 - 100%) training accuracy: 0.9866 \t testing accuracy: 0.9816\n",
      "epoch 14 - 100%) training accuracy: 0.9875 \t testing accuracy: 0.9826\n",
      "epoch 15 - 100%) training accuracy: 0.9883 \t testing accuracy: 0.9837\n",
      "epoch 16 - 100%) training accuracy: 0.9895 \t testing accuracy: 0.9850\n",
      "epoch 17 - 100%) training accuracy: 0.9892 \t testing accuracy: 0.9838\n",
      "epoch 18 - 100%) training accuracy: 0.9877 \t testing accuracy: 0.9838\n",
      "epoch 19 - 100%) training accuracy: 0.9899 \t testing accuracy: 0.9851\n",
      "epoch 20 - 100%) training accuracy: 0.9903 \t testing accuracy: 0.9866\n",
      "epoch 21 - 100%) training accuracy: 0.9901 \t testing accuracy: 0.9868\n",
      "epoch 22 - 100%) training accuracy: 0.9909 \t testing accuracy: 0.9864\n",
      "epoch 23 - 100%) training accuracy: 0.9915 \t testing accuracy: 0.9855\n",
      "epoch 24 - 100%) training accuracy: 0.9914 \t testing accuracy: 0.9856\n",
      "epoch 25 - 100%) training accuracy: 0.9904 \t testing accuracy: 0.9837\n",
      "epoch 26 - 100%) training accuracy: 0.9913 \t testing accuracy: 0.9873\n",
      "epoch 27 - 100%) training accuracy: 0.9931 \t testing accuracy: 0.9892\n",
      "epoch 28 - 100%) training accuracy: 0.9910 \t testing accuracy: 0.9874\n",
      "epoch 29 - 100%) training accuracy: 0.9920 \t testing accuracy: 0.9877\n",
      "epoch 30 - 100%) training accuracy: 0.9923 \t testing accuracy: 0.9881\n",
      "epoch 31 - 100%) training accuracy: 0.9922 \t testing accuracy: 0.9870\n",
      "epoch 32 - 100%) training accuracy: 0.9934 \t testing accuracy: 0.9886\n",
      "epoch 33 - 100%) training accuracy: 0.9937 \t testing accuracy: 0.9893\n",
      "epoch 34 - 100%) training accuracy: 0.9946 \t testing accuracy: 0.9904\n",
      "epoch 35 - 100%) training accuracy: 0.9937 \t testing accuracy: 0.9890\n",
      "epoch 36 - 100%) training accuracy: 0.9933 \t testing accuracy: 0.9874\n",
      "epoch 37 - 100%) training accuracy: 0.9944 \t testing accuracy: 0.9883\n",
      "epoch 38 - 100%) training accuracy: 0.9944 \t testing accuracy: 0.9890\n",
      "epoch 39 - 100%) training accuracy: 0.9948 \t testing accuracy: 0.9895\n",
      "epoch 40 - 100%) training accuracy: 0.9947 \t testing accuracy: 0.9896\n",
      "epoch 41 - 100%) training accuracy: 0.9935 \t testing accuracy: 0.9893\n",
      "epoch 42 - 100%) training accuracy: 0.9943 \t testing accuracy: 0.9898\n",
      "epoch 43 - 100%) training accuracy: 0.9936 \t testing accuracy: 0.9884\n",
      "epoch 44 - 100%) training accuracy: 0.9945 \t testing accuracy: 0.9901\n",
      "epoch 45 - 100%) training accuracy: 0.9945 \t testing accuracy: 0.9887\n",
      "epoch 46 - 100%) training accuracy: 0.9949 \t testing accuracy: 0.9908\n",
      "epoch 47 - 100%) training accuracy: 0.9950 \t testing accuracy: 0.9893\n",
      "epoch 48 - 100%) training accuracy: 0.9949 \t testing accuracy: 0.9896\n",
      "epoch 49 - 100%) training accuracy: 0.9940 \t testing accuracy: 0.9891\n",
      "epoch 50 - 100%) training accuracy: 0.9949 \t testing accuracy: 0.9886\n"
     ]
    }
   ],
   "source": [
    "bsize = 1000 #batch size\n",
    "n_batches = mnist.train.num_examples // bsize\n",
    "for epoch in range(50):   \n",
    "    for i in range(n_batches):\n",
    "        data, label = mnist.train.next_batch(bsize)\n",
    "        feed_dict={X1:data, Y1:label, keep_prob1:.5}\n",
    "        sess1.run(step1,feed_dict)\n",
    "        print('epoch %d - %d%%) '% (epoch+1, (100*(i+1))//n_batches), end='\\r' if i<n_batches-1 else '')\n",
    "        \n",
    "    train_acc = sess1.run(acc1, feed_dict={X1:mnist.train.images,Y1:mnist.train.labels,keep_prob1:1.})\n",
    "    test_acc = sess1.run(acc1, feed_dict={X1:mnist.test.images,Y1:mnist.test.labels,keep_prob1:1.})\n",
    "    \n",
    "    print('training accuracy: %2.4f \\t testing accuracy: %2.4f' % (train_acc, test_acc))"
   ]
  },
  {
   "cell_type": "code",
   "execution_count": null,
   "metadata": {
    "collapsed": true
   },
   "outputs": [],
   "source": []
  },
  {
   "cell_type": "markdown",
   "metadata": {},
   "source": [
    "** Classification of Rotating Images **"
   ]
  },
  {
   "cell_type": "code",
   "execution_count": 167,
   "metadata": {
    "collapsed": true
   },
   "outputs": [],
   "source": [
    "def rotating_image_classification(img, sess, prob, X, keep_prob, uncertainty=None):\n",
    "    Mdeg = 180 \n",
    "    Ndeg = int(Mdeg/10)+1\n",
    "    ldeg = []\n",
    "    lp = []\n",
    "    lu=[]\n",
    "    scores = np.zeros((1,K))\n",
    "    rimgs = np.zeros((28,28*Ndeg))\n",
    "    for i,deg in enumerate(np.linspace(0,Mdeg, Ndeg)):\n",
    "        nimg = rotate_img(img,deg).reshape(28,28)\n",
    "        nimg = np.clip(a=nimg,a_min=0,a_max=1)\n",
    "        rimgs[:,i*28:(i+1)*28] = nimg\n",
    "        feed_dict={X:nimg.reshape(1,-1), keep_prob:1.0}\n",
    "        if uncertainty is None:\n",
    "            p_pred_t = sess.run(prob, feed_dict=feed_dict)\n",
    "        else:\n",
    "            p_pred_t,u = sess.run([prob,uncertainty], feed_dict=feed_dict)\n",
    "            lu.append(u.mean())\n",
    "        scores += p_pred_t >= 0.5\n",
    "        ldeg.append(deg) \n",
    "        lp.append(p_pred_t[0])\n",
    "    \n",
    "    labels = np.arange(10)[scores[0].astype(bool)]\n",
    "    lp = np.array(lp)[:,labels]\n",
    "    c = ['black','blue','red','brown','purple','cyan']\n",
    "    marker = ['s','^','o']*2\n",
    "    labels = labels.tolist()\n",
    "    for i in range(len(labels)):\n",
    "        plt.plot(ldeg,lp[:,i],marker=marker[i],c=c[i])\n",
    "    \n",
    "    if uncertainty is not None:\n",
    "        labels += ['uncertainty']\n",
    "        plt.plot(ldeg,lu,marker='<',c='red')\n",
    "        \n",
    "    plt.legend(labels)\n",
    " \n",
    "    plt.xlim([0,Mdeg])  \n",
    "    plt.xlabel('Rotation Degree')\n",
    "    plt.ylabel('Classification Probability')\n",
    "    plt.show()\n",
    "\n",
    "    plt.figure(figsize=[6.2,100])\n",
    "    plt.imshow(1-rimgs,cmap='gray')\n",
    "    plt.axis('off')\n",
    "    plt.show()"
   ]
  },
  {
   "cell_type": "code",
   "execution_count": 171,
   "metadata": {
    "collapsed": false
   },
   "outputs": [
    {
     "data": {
      "image/png": "[encoded data removed]",
      "text/plain": [
       "<Figure size 432x288 with 1 Axes>"
      ]
     },
     "metadata": {},
     "output_type": "display_data"
    },
    {
     "data": {
      "image/png": "[encoded data removed]",
      "text/plain": [
       "<Figure size 446.4x7200 with 1 Axes>"
      ]
     },
     "metadata": {},
     "output_type": "display_data"
    }
   ],
   "source": [
    "rotating_image_classification(digit_one, sess1, prob1, X1, keep_prob1)"
   ]
  },
  {
   "cell_type": "markdown",
   "metadata": {
    "collapsed": true
   },
   "source": [
    "# Evidential Deep Learning with Expected Mean Square Error"
   ]
  },
  {
   "cell_type": "code",
   "execution_count": null,
   "metadata": {
    "collapsed": true
   },
   "outputs": [],
   "source": []
  },
  {
   "cell_type": "code",
   "execution_count": 61,
   "metadata": {
    "collapsed": true
   },
   "outputs": [],
   "source": [
    "def KL(alpha):\n",
    "    beta=tf.constant(np.ones((1,K)),dtype=tf.float32)\n",
    "    S_alpha = tf.reduce_sum(alpha,axis=1,keep_dims=True)\n",
    "    S_beta = tf.reduce_sum(beta,axis=1,keep_dims=True)\n",
    "    lnB = tf.lgamma(S_alpha) - tf.reduce_sum(tf.lgamma(alpha),axis=1,keep_dims=True)\n",
    "    lnB_uni = tf.reduce_sum(tf.lgamma(beta),axis=1,keep_dims=True) - tf.lgamma(S_beta)\n",
    "    \n",
    "    dg0 = tf.digamma(S_alpha)\n",
    "    dg1 = tf.digamma(alpha)\n",
    "    \n",
    "    kl = tf.reduce_sum((alpha - beta)*(dg1-dg0),axis=1,keep_dims=True) + lnB + lnB_uni\n",
    "    return kl\n",
    "\n",
    "def mse_loss(p, alpha, global_step, annealing_step): \n",
    "    S = tf.reduce_sum(alpha, axis=1, keep_dims=True) \n",
    "    E = alpha - 1\n",
    "    U = K / S\n",
    "    m = alpha / S\n",
    "    \n",
    "    A = tf.reduce_sum((p-m)**2, axis=1, keep_dims=True) \n",
    "    B = tf.reduce_sum(alpha*(S-alpha)/(S*S*(S+1)), axis=1, keep_dims=True) \n",
    "    \n",
    "    annealing_coef = tf.minimum(1.0,tf.cast(global_step/annealing_step,tf.float32))\n",
    "    \n",
    "    alp = E*(1-p) + 1 \n",
    "    C =  annealing_coef * KL(alp)\n",
    "    \n",
    "    return (A + B) + C"
   ]
  },
  {
   "cell_type": "code",
   "execution_count": 155,
   "metadata": {
    "collapsed": true
   },
   "outputs": [],
   "source": [
    "# train LeNet network with expected mean square error loss\n",
    "def LeNet_mse_dirichlet(lmb=0.005):\n",
    "    g = tf.Graph()\n",
    "    with g.as_default():\n",
    "        X = tf.placeholder(shape=[None,28*28], dtype=tf.float32)\n",
    "        Y = tf.placeholder(shape=[None,10], dtype=tf.float32)\n",
    "        keep_prob = tf.placeholder(dtype=tf.float32)\n",
    "        global_step = tf.Variable(initial_value=0, name='global_step', trainable=False)\n",
    "        annealing_step = tf.placeholder(dtype=tf.int32) \n",
    "    \n",
    "        # first hidden layer - conv\n",
    "        W1 = var('W1', [5,5,1,20])\n",
    "        b1 = var('b1', [20])\n",
    "        out1 = max_pool(tf.nn.relu(conv(tf.reshape(X, [-1, 28,28, 1]), \n",
    "                                        W1, strides=[1, 1, 1, 1]) + b1))\n",
    "        # second hidden layer - conv\n",
    "        W2 = var('W2', [5,5,20,50])\n",
    "        b2 = var('b2', [50])\n",
    "        out2 = max_pool(tf.nn.relu(conv(out1, W2, strides=[1, 1, 1, 1]) + b2))\n",
    "        # flatten the output\n",
    "        Xflat = tf.contrib.layers.flatten(out2)\n",
    "        # third hidden layer - fully connected\n",
    "        W3 = var('W3', [Xflat.get_shape()[1].value, 500])\n",
    "        b3 = var('b3', [500]) \n",
    "        out3 = tf.nn.relu(tf.matmul(Xflat, W3) + 3)\n",
    "        out3 = tf.nn.dropout(out3, keep_prob=keep_prob)\n",
    "        #output layer\n",
    "        W4 = var('W4', [500,10])\n",
    "        b4 = var('b4',[10])\n",
    "        logits = tf.matmul(out3, W4) + b4\n",
    "        \n",
    "        evidence = tf.nn.relu(logits)\n",
    "        alpha = evidence + 1\n",
    "        \n",
    "        u = K / tf.reduce_sum(alpha, axis=1, keep_dims=True) #uncertainty\n",
    "        \n",
    "        prob = alpha/tf.reduce_sum(alpha, 1, keepdims=True) \n",
    "        \n",
    "        loss = tf.reduce_mean(mse_loss(Y, alpha, global_step, annealing_step))\n",
    "        l2_loss = (tf.nn.l2_loss(W3)+tf.nn.l2_loss(W4)) * lmb\n",
    "        \n",
    "        step = tf.train.AdamOptimizer().minimize(loss + l2_loss, global_step=global_step)\n",
    "        \n",
    "        # Calculate accuracy\n",
    "        pred = tf.argmax(logits, 1)\n",
    "        truth = tf.argmax(Y, 1)\n",
    "        match = tf.reshape(tf.cast(tf.equal(pred, truth), tf.float32),(-1,1))\n",
    "        acc = tf.reduce_mean(match)\n",
    "        \n",
    "        total_evidence = tf.reduce_sum(evidence,1, keepdims=True) \n",
    "        mean_ev = tf.reduce_mean(total_evidence)\n",
    "        mean_ev_succ = tf.reduce_sum(tf.reduce_sum(evidence,1, keepdims=True)*match) / tf.reduce_sum(match+1e-20)\n",
    "        mean_ev_fail = tf.reduce_sum(tf.reduce_sum(evidence,1, keepdims=True)*(1-match)) / (tf.reduce_sum(tf.abs(1-match))+1e-20) \n",
    "        \n",
    "        return g, step, X, Y, annealing_step, keep_prob, prob, acc, loss, u, evidence, mean_ev, mean_ev_succ, mean_ev_fail"
   ]
  },
  {
   "cell_type": "code",
   "execution_count": 156,
   "metadata": {
    "collapsed": true,
    "scrolled": true
   },
   "outputs": [],
   "source": [
    "g2, step2, X2, Y2, annealing_step, keep_prob2, prob2, acc2, loss2, u, evidence, \\\n",
    "    mean_ev, mean_ev_succ, mean_ev_fail= LeNet_mse_dirichlet()"
   ]
  },
  {
   "cell_type": "code",
   "execution_count": 172,
   "metadata": {
    "collapsed": true,
    "scrolled": false
   },
   "outputs": [],
   "source": [
    "sess2 = tf.Session(graph=g2)\n",
    "with g2.as_default():\n",
    "    sess2.run(tf.global_variables_initializer())"
   ]
  },
  {
   "cell_type": "code",
   "execution_count": 173,
   "metadata": {
    "collapsed": false
   },
   "outputs": [
    {
     "name": "stdout",
     "output_type": "stream",
     "text": [
      "epoch 1 - 100%) training: 0.9470 (29.9496 - 6.0470) \t testing: 0.9525 (30.3331 - 6.2809)\n",
      "epoch 2 - 100%) training: 0.9674 (33.9131 - 6.2303) \t testing: 0.9695 (34.4653 - 7.0255)\n",
      "epoch 3 - 100%) training: 0.9756 (33.1459 - 4.3576) \t testing: 0.9762 (33.7443 - 4.1752)\n",
      "epoch 4 - 100%) training: 0.9745 (33.9431 - 3.5602) \t testing: 0.9749 (34.4402 - 3.7496)\n",
      "epoch 5 - 100%) training: 0.9807 (36.8166 - 4.0170) \t testing: 0.9789 (37.4320 - 4.1132)\n",
      "epoch 6 - 100%) training: 0.9791 (36.6413 - 3.0833) \t testing: 0.9803 (37.2622 - 3.1119)\n",
      "epoch 7 - 100%) training: 0.9782 (39.2723 - 3.2930) \t testing: 0.9778 (40.0590 - 3.1863)\n",
      "epoch 8 - 100%) training: 0.9808 (37.4109 - 1.9068) \t testing: 0.9800 (38.1145 - 2.2643)\n",
      "epoch 9 - 100%) training: 0.9815 (39.3951 - 2.7377) \t testing: 0.9805 (40.1664 - 2.9485)\n",
      "epoch 10 - 100%) training: 0.9831 (40.2205 - 2.0345) \t testing: 0.9830 (40.8734 - 2.4930)\n",
      "epoch 11 - 100%) training: 0.9839 (40.3787 - 1.5182) \t testing: 0.9840 (41.1746 - 1.7158)\n",
      "epoch 12 - 100%) training: 0.9833 (39.9269 - 1.6233) \t testing: 0.9836 (40.7200 - 2.0022)\n",
      "epoch 13 - 100%) training: 0.9844 (42.0865 - 1.8232) \t testing: 0.9835 (42.9469 - 2.2165)\n",
      "epoch 14 - 100%) training: 0.9816 (40.6318 - 1.4549) \t testing: 0.9811 (41.4050 - 2.1860)\n",
      "epoch 15 - 100%) training: 0.9851 (44.5367 - 2.1988) \t testing: 0.9842 (45.3868 - 3.0271)\n",
      "epoch 16 - 100%) training: 0.9837 (44.3451 - 1.9175) \t testing: 0.9829 (45.0711 - 3.2015)\n",
      "epoch 17 - 100%) training: 0.9839 (47.7866 - 2.7627) \t testing: 0.9824 (48.6517 - 3.8829)\n",
      "epoch 18 - 100%) training: 0.9856 (44.8029 - 1.7993) \t testing: 0.9855 (45.7763 - 3.0277)\n",
      "epoch 19 - 100%) training: 0.9841 (44.6586 - 1.8779) \t testing: 0.9834 (45.5720 - 3.4869)\n",
      "epoch 20 - 100%) training: 0.9875 (45.7646 - 1.8881) \t testing: 0.9877 (46.7228 - 3.3131)\n",
      "epoch 21 - 100%) training: 0.9866 (46.3577 - 1.9462) \t testing: 0.9861 (47.1481 - 3.0685)\n",
      "epoch 22 - 100%) training: 0.9861 (46.5912 - 1.9597) \t testing: 0.9863 (47.3737 - 2.7471)\n",
      "epoch 23 - 100%) training: 0.9869 (48.9247 - 2.2133) \t testing: 0.9867 (49.9383 - 2.7514)\n",
      "epoch 24 - 100%) training: 0.9870 (46.9884 - 2.0665) \t testing: 0.9855 (48.0439 - 2.1623)\n",
      "epoch 25 - 100%) training: 0.9873 (50.8303 - 2.4647) \t testing: 0.9854 (51.8676 - 3.1680)\n",
      "epoch 26 - 100%) training: 0.9880 (49.6770 - 2.3419) \t testing: 0.9879 (50.5636 - 3.7460)\n",
      "epoch 27 - 100%) training: 0.9871 (49.9567 - 2.2482) \t testing: 0.9862 (51.1154 - 3.4443)\n",
      "epoch 28 - 100%) training: 0.9877 (50.9868 - 2.4529) \t testing: 0.9869 (52.1459 - 3.8382)\n",
      "epoch 29 - 100%) training: 0.9883 (46.9654 - 1.3623) \t testing: 0.9873 (47.9654 - 2.1033)\n",
      "epoch 30 - 100%) training: 0.9882 (51.7587 - 2.4527) \t testing: 0.9871 (52.7797 - 4.4101)\n",
      "epoch 31 - 100%) training: 0.9883 (52.9645 - 3.1079) \t testing: 0.9873 (54.1205 - 3.6993)\n",
      "epoch 32 - 100%) training: 0.9881 (51.1556 - 2.3109) \t testing: 0.9875 (52.0979 - 4.0251)\n",
      "epoch 33 - 100%) training: 0.9880 (48.3095 - 1.5548) \t testing: 0.9874 (49.4096 - 2.0053)\n",
      "epoch 34 - 100%) training: 0.9885 (51.3298 - 2.3731) \t testing: 0.9864 (52.2786 - 3.8313)\n",
      "epoch 35 - 100%) training: 0.9892 (53.0268 - 2.6064) \t testing: 0.9875 (54.1511 - 3.8138)\n",
      "epoch 36 - 100%) training: 0.9902 (50.2909 - 1.8811) \t testing: 0.9884 (51.5063 - 2.5316)\n",
      "epoch 37 - 100%) training: 0.9885 (51.8024 - 2.0432) \t testing: 0.9879 (52.7857 - 2.8535)\n",
      "epoch 38 - 100%) training: 0.9888 (51.6903 - 1.5005) \t testing: 0.9881 (52.7587 - 2.3378)\n",
      "epoch 39 - 100%) training: 0.9896 (54.4732 - 1.9507) \t testing: 0.9876 (55.7110 - 2.9229)\n",
      "epoch 40 - 100%) training: 0.9885 (49.8664 - 1.7354) \t testing: 0.9866 (50.7666 - 2.3627)\n",
      "epoch 41 - 100%) training: 0.9893 (54.7296 - 2.3521) \t testing: 0.9878 (55.9593 - 3.4784)\n",
      "epoch 42 - 100%) training: 0.9888 (55.0189 - 2.9684) \t testing: 0.9884 (55.9647 - 3.5898)\n",
      "epoch 43 - 100%) training: 0.9907 (54.7551 - 2.2131) \t testing: 0.9887 (55.9601 - 4.9516)\n",
      "epoch 44 - 100%) training: 0.9889 (55.8486 - 2.6489) \t testing: 0.9880 (57.0468 - 4.3089)\n",
      "epoch 45 - 100%) training: 0.9895 (56.3373 - 2.6319) \t testing: 0.9888 (57.3626 - 4.7427)\n",
      "epoch 46 - 100%) training: 0.9886 (52.5418 - 1.4541) \t testing: 0.9882 (53.6143 - 2.9547)\n",
      "epoch 47 - 100%) training: 0.9908 (53.2042 - 1.7521) \t testing: 0.9876 (54.3501 - 2.6650)\n",
      "epoch 48 - 100%) training: 0.9893 (57.3922 - 2.6419) \t testing: 0.9877 (58.5497 - 4.1028)\n",
      "epoch 49 - 100%) training: 0.9889 (55.2722 - 2.0515) \t testing: 0.9876 (56.4727 - 2.7934)\n",
      "epoch 50 - 100%) training: 0.9887 (55.1349 - 2.0851) \t testing: 0.9880 (56.2424 - 2.6495)\n"
     ]
    }
   ],
   "source": [
    "bsize = 1000 #batch size\n",
    "n_batches = mnist.train.num_examples // bsize\n",
    "L_train_acc1=[]\n",
    "L_train_ev_s=[]\n",
    "L_train_ev_f=[]\n",
    "L_test_acc1=[]\n",
    "L_test_ev_s=[]\n",
    "L_test_ev_f=[]\n",
    "for epoch in range(50):   \n",
    "    for i in range(n_batches):\n",
    "        data, label = mnist.train.next_batch(bsize)\n",
    "        feed_dict={X2:data, Y2:label, keep_prob2:.5, annealing_step:10*n_batches}\n",
    "        sess2.run(step2,feed_dict)\n",
    "        print('epoch %d - %d%%) '% (epoch+1, (100*(i+1))//n_batches), end='\\r' if i<n_batches-1 else '')\n",
    "        \n",
    "    train_acc, train_succ, train_fail = sess2.run([acc2,mean_ev_succ,mean_ev_fail], feed_dict={X2:mnist.train.images,Y2:mnist.train.labels,keep_prob2:1.})\n",
    "    test_acc, test_succ, test_fail = sess2.run([acc2,mean_ev_succ,mean_ev_fail], feed_dict={X2:mnist.test.images,Y2:mnist.test.labels,keep_prob2:1.})\n",
    "    \n",
    "    L_train_acc1.append(train_acc)\n",
    "    L_train_ev_s.append(train_succ)\n",
    "    L_train_ev_f.append(train_fail)\n",
    "    \n",
    "    L_test_acc1.append(test_acc)\n",
    "    L_test_ev_s.append(test_succ)\n",
    "    L_test_ev_f.append(test_fail)\n",
    "    \n",
    "    print('training: %2.4f (%2.4f - %2.4f) \\t testing: %2.4f (%2.4f - %2.4f)' % \n",
    "          (train_acc, train_succ, train_fail, test_acc, test_succ, test_fail))"
   ]
  },
  {
   "cell_type": "code",
   "execution_count": 195,
   "metadata": {
    "collapsed": true
   },
   "outputs": [],
   "source": [
    "def draw_EDL_results(train_acc1, train_ev_s, train_ev_f, test_acc1, test_ev_s, test_ev_f): \n",
    "    # calculate uncertainty for training and testing data for correctly and misclassified samples\n",
    "    train_u_succ = K / (K+np.array(train_ev_s))\n",
    "    train_u_fail = K / (K+np.array(train_ev_f))\n",
    "    test_u_succ  = K / (K+np.array(test_ev_s))\n",
    "    test_u_fail  = K / (K+np.array(test_ev_f))\n",
    "    \n",
    "    f, axs = pl.subplots(2, 2)\n",
    "    f.set_size_inches([10,10])\n",
    "    \n",
    "    axs[0,0].plot(train_ev_s,c='r',marker='+')\n",
    "    axs[0,0].plot(train_ev_f,c='k',marker='x')\n",
    "    axs[0,0].set_title('Train Data')\n",
    "    axs[0,0].set_xlabel('Epoch')\n",
    "    axs[0,0].set_ylabel('Estimated total evidence for classification') \n",
    "    axs[0,0].legend(['Correct Clasifications','Misclasifications'])\n",
    "    \n",
    "    \n",
    "    axs[0,1].plot(train_u_succ,c='r',marker='+')\n",
    "    axs[0,1].plot(train_u_fail,c='k',marker='x')\n",
    "    axs[0,1].plot(train_acc1,c='blue',marker='*')\n",
    "    axs[0,1].set_title('Train Data')\n",
    "    axs[0,1].set_xlabel('Epoch')\n",
    "    axs[0,1].set_ylabel('Estimated uncertainty for classification')\n",
    "    axs[0,1].legend(['Correct clasifications','Misclasifications', 'Accuracy'])\n",
    "    \n",
    "    axs[1,0].plot(test_ev_s,c='r',marker='+')\n",
    "    axs[1,0].plot(test_ev_f,c='k',marker='x')\n",
    "    axs[1,0].set_title('Test Data')\n",
    "    axs[1,0].set_xlabel('Epoch')\n",
    "    axs[1,0].set_ylabel('Estimated total evidence for classification') \n",
    "    axs[1,0].legend(['Correct Clasifications','Misclasifications'])\n",
    "    \n",
    "    \n",
    "    axs[1,1].plot(test_u_succ,c='r',marker='+')\n",
    "    axs[1,1].plot(test_u_fail,c='k',marker='x')\n",
    "    axs[1,1].plot(test_acc1,c='blue',marker='*')\n",
    "    axs[1,1].set_title('Test Data')\n",
    "    axs[1,1].set_xlabel('Epoch')\n",
    "    axs[1,1].set_ylabel('Estimated uncertainty for classification')\n",
    "    axs[1,1].legend(['Correct clasifications','Misclasifications', 'Accuracy'])\n",
    "    \n",
    "    plt.show()"
   ]
  },
  {
   "cell_type": "code",
   "execution_count": 196,
   "metadata": {
    "collapsed": false
   },
   "outputs": [
    {
     "data": {
      "image/png": "[encoded data removed]",
      "text/plain": [
       "<Figure size 720x720 with 4 Axes>"
      ]
     },
     "metadata": {},
     "output_type": "display_data"
    }
   ],
   "source": [
    "draw_EDL_results(L_train_acc1, L_train_ev_s, L_train_ev_f, L_test_acc1, L_test_ev_s, L_test_ev_f)"
   ]
  },
  {
   "cell_type": "code",
   "execution_count": 174,
   "metadata": {
    "collapsed": false
   },
   "outputs": [
    {
     "data": {
      "image/png": "[encoded data removed]",
      "text/plain": [
       "<Figure size 432x288 with 1 Axes>"
      ]
     },
     "metadata": {},
     "output_type": "display_data"
    },
    {
     "data": {
      "image/png": "[encoded data removed]",
      "text/plain": [
       "<Figure size 446.4x7200 with 1 Axes>"
      ]
     },
     "metadata": {},
     "output_type": "display_data"
    }
   ],
   "source": [
    "rotating_image_classification(digit_one, sess2, prob2, X2, keep_prob2, u)"
   ]
  },
  {
   "cell_type": "markdown",
   "metadata": {},
   "source": [
    "# Evidential Deep Learning with Expected Cross Entropy"
   ]
  },
  {
   "cell_type": "code",
   "execution_count": null,
   "metadata": {
    "collapsed": true
   },
   "outputs": [],
   "source": []
  },
  {
   "cell_type": "code",
   "execution_count": null,
   "metadata": {
    "colab": {
     "autoexec": {
      "startup": false,
      "wait_interval": 0
     }
    },
    "colab_type": "code",
    "collapsed": true,
    "id": "pzgZFuUx2vM-"
   },
   "outputs": [],
   "source": []
  },
  {
   "cell_type": "code",
   "execution_count": null,
   "metadata": {
    "colab": {
     "autoexec": {
      "startup": false,
      "wait_interval": 0
     }
    },
    "colab_type": "code",
    "collapsed": true,
    "id": "PQ2AqucY20f2"
   },
   "outputs": [],
   "source": []
  },
  {
   "cell_type": "code",
   "execution_count": null,
   "metadata": {
    "colab": {
     "autoexec": {
      "startup": false,
      "wait_interval": 0
     },
     "base_uri": "https://localhost:8080/",
     "height": 179
    },
    "colab_type": "code",
    "collapsed": true,
    "executionInfo": {
     "elapsed": 2222,
     "status": "ok",
     "timestamp": 1527923836119,
     "user": {
      "displayName": "Murat Sensoy",
      "photoUrl": "https://lh3.googleusercontent.com/a/default-user=s128",
      "userId": "102692943223630372304"
     },
     "user_tz": -180
    },
    "id": "FDhvxNKN25VE",
    "outputId": "b96b936e-955f-4338-faa3-ccd2f0a7e36b"
   },
   "outputs": [],
   "source": []
  },
  {
   "cell_type": "code",
   "execution_count": null,
   "metadata": {
    "colab": {
     "autoexec": {
      "startup": false,
      "wait_interval": 0
     }
    },
    "colab_type": "code",
    "collapsed": true,
    "id": "qbeTD5zl3LEu"
   },
   "outputs": [],
   "source": []
  },
  {
   "cell_type": "code",
   "execution_count": null,
   "metadata": {
    "colab": {
     "autoexec": {
      "startup": false,
      "wait_interval": 0
     }
    },
    "colab_type": "code",
    "collapsed": true,
    "id": "yrZTPQ563PlZ"
   },
   "outputs": [],
   "source": []
  },
  {
   "cell_type": "code",
   "execution_count": null,
   "metadata": {
    "colab": {
     "autoexec": {
      "startup": false,
      "wait_interval": 0
     }
    },
    "colab_type": "code",
    "collapsed": true,
    "id": "x1G0RMxw3SWj"
   },
   "outputs": [],
   "source": []
  },
  {
   "cell_type": "code",
   "execution_count": null,
   "metadata": {
    "colab": {
     "autoexec": {
      "startup": false,
      "wait_interval": 0
     },
     "base_uri": "https://localhost:8080/",
     "height": 454
    },
    "colab_type": "code",
    "collapsed": true,
    "id": "qZeZ8M2-3U2o",
    "outputId": "ba07af58-3193-44a1-bcfe-e0a699affbdc"
   },
   "outputs": [],
   "source": []
  },
  {
   "cell_type": "code",
   "execution_count": null,
   "metadata": {
    "colab": {
     "autoexec": {
      "startup": false,
      "wait_interval": 0
     },
     "base_uri": "https://localhost:8080/",
     "height": 1291
    },
    "colab_type": "code",
    "collapsed": true,
    "executionInfo": {
     "elapsed": 460,
     "status": "ok",
     "timestamp": 1527923232289,
     "user": {
      "displayName": "Murat Sensoy",
      "photoUrl": "https://lh3.googleusercontent.com/a/default-user=s128",
      "userId": "102692943223630372304"
     },
     "user_tz": -180
    },
    "id": "aVltdhRR5dNG",
    "outputId": "fab9365b-f64b-4e47-de90-e48e6eda4aab"
   },
   "outputs": [],
   "source": []
  },
  {
   "cell_type": "code",
   "execution_count": null,
   "metadata": {
    "colab": {
     "autoexec": {
      "startup": false,
      "wait_interval": 0
     }
    },
    "colab_type": "code",
    "collapsed": true,
    "id": "ZnmB0--c351F"
   },
   "outputs": [],
   "source": []
  },
  {
   "cell_type": "code",
   "execution_count": null,
   "metadata": {
    "colab": {
     "autoexec": {
      "startup": false,
      "wait_interval": 0
     }
    },
    "colab_type": "code",
    "collapsed": true,
    "id": "Q62WEjraXN9Z"
   },
   "outputs": [],
   "source": []
  }
 ],
 "metadata": {
  "accelerator": "GPU",
  "colab": {
   "collapsed_sections": [],
   "default_view": {},
   "name": "EDL MNIST Demo.ipynb",
   "provenance": [
    {
     "file_id": "1AAN37ioPFkhPfTxBaLeFywBwIliguMu1",
     "timestamp": 1527923401234
    }
   ],
   "version": "0.3.2",
   "views": {}
  },
  "kernelspec": {
   "display_name": "Python [default]",
   "language": "python",
   "name": "python3"
  },
  "language_info": {
   "codemirror_mode": {
    "name": "ipython",
    "version": 3
   },
   "file_extension": ".py",
   "mimetype": "text/x-python",
   "name": "python",
   "nbconvert_exporter": "python",
   "pygments_lexer": "ipython3",
   "version": "3.5.2"
  }
 },
 "nbformat": 4,
 "nbformat_minor": 1
}
