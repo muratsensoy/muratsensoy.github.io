{
 "cells": [
  {
   "cell_type": "markdown",
   "metadata": {
    "colab_type": "text",
    "id": "0exbohiky30o"
   },
   "source": [
    "#  Uncertainty-Aware Deep Classifiers using Generative Models"
   ]
  },
  {
   "cell_type": "markdown",
   "metadata": {
    "colab_type": "text",
    "id": "2o7lHFZ7y30r"
   },
   "source": [
    "In this notebook, we demonstrate how the evidential deep learning can be extended using generative models and implicit density modelling using the MNIST dataset. *It is prepared for colab, so you may need to clean colab specific code before running it in your machine.*\n",
    "\n",
    "The code presented here is an implementation of the approach proposed in the following paper:\n",
    "\n",
    "Murat Sensoy, Lance Kaplan, Federico Cerutti, “Uncertainty-Aware Deep Classifiers using Generative Models”,  The 34rd Conference on Artificial Intelligence (AAAI), 2020. \n",
    "\n",
    "The notebook can be accesed over https://muratsensoy.github.io/gen.ipynb\n"
   ]
  },
  {
   "cell_type": "code",
   "execution_count": 0,
   "metadata": {
    "colab": {},
    "colab_type": "code",
    "id": "HnAMTUIzy30t"
   },
   "outputs": [],
   "source": [
    "%tensorflow_version 1.x\n",
    "\n",
    "#import necessary libraries\n",
    "import tensorflow as tf\n",
    "import numpy as np\n",
    "from matplotlib import pyplot as plt\n",
    "import scipy.ndimage as nd\n",
    "\n",
    "%matplotlib inline\n",
    "import pylab as pl\n",
    "from IPython import display\n",
    "\n",
    "from tensorflow.examples.tutorials.mnist import input_data\n",
    "from tensorflow_probability import distributions as tfd\n",
    "from sklearn.metrics import roc_curve, precision_recall_curve, auc"
   ]
  },
  {
   "cell_type": "code",
   "execution_count": 0,
   "metadata": {
    "colab": {},
    "colab_type": "code",
    "id": "zhjsPKg6y302"
   },
   "outputs": [],
   "source": [
    "#optional: define which GPU will be used\n",
    "#import os\n",
    "#os.environ[\"CUDA_DEVICE_ORDER\"]=\"PCI_BUS_ID\"\n",
    "#os.environ[\"CUDA_VISIBLE_DEVICES\"]=\"1\""
   ]
  },
  {
   "cell_type": "code",
   "execution_count": 3,
   "metadata": {
    "colab": {
     "base_uri": "https://localhost:8080/",
     "height": 34
    },
    "colab_type": "code",
    "id": "DwbXJtLWy307",
    "outputId": "c5b97cf9-dbcf-4561-95f7-ea5f51d22c3a"
   },
   "outputs": [
    {
     "name": "stderr",
     "output_type": "stream",
     "text": [
      "Using TensorFlow backend.\n"
     ]
    }
   ],
   "source": [
    "# change path to out-of-distribution samples (e.g., notMNIST)\n",
    "#notmnist = np.load('data/notMNIST_real/notMNIST_small/'+'dataset.npy')\n",
    "\n",
    "# use fashionmnist for convenience (keras)\n",
    "from keras.datasets import fashion_mnist\n",
    "((trainX, trainY), (testX, testY)) = fashion_mnist.load_data()\n",
    "OoD = testX/255\n"
   ]
  },
  {
   "cell_type": "code",
   "execution_count": 0,
   "metadata": {
    "colab": {},
    "colab_type": "code",
    "id": "ga5pdRSV0UP_"
   },
   "outputs": [],
   "source": []
  },
  {
   "cell_type": "code",
   "execution_count": 0,
   "metadata": {
    "colab": {},
    "colab_type": "code",
    "id": "pE_qdQLzy31B"
   },
   "outputs": [],
   "source": [
    "train_inds = range(1,OoD.shape[0],2)"
   ]
  },
  {
   "cell_type": "code",
   "execution_count": 0,
   "metadata": {
    "colab": {},
    "colab_type": "code",
    "id": "scjl0MITy31G"
   },
   "outputs": [],
   "source": []
  },
  {
   "cell_type": "code",
   "execution_count": 5,
   "metadata": {
    "colab": {
     "base_uri": "https://localhost:8080/",
     "height": 391
    },
    "colab_type": "code",
    "id": "MROFqBJQ1naS",
    "outputId": "bdb67ed6-bae7-422e-d5e9-4357947f20c8"
   },
   "outputs": [
    {
     "name": "stdout",
     "output_type": "stream",
     "text": [
      "WARNING:tensorflow:From <ipython-input-5-0e4f4854d84b>:1: read_data_sets (from tensorflow.contrib.learn.python.learn.datasets.mnist) is deprecated and will be removed in a future version.\n",
      "Instructions for updating:\n",
      "Please use alternatives such as official/mnist/dataset.py from tensorflow/models.\n",
      "WARNING:tensorflow:From /usr/local/lib/python3.6/dist-packages/tensorflow_core/contrib/learn/python/learn/datasets/mnist.py:260: maybe_download (from tensorflow.contrib.learn.python.learn.datasets.base) is deprecated and will be removed in a future version.\n",
      "Instructions for updating:\n",
      "Please write your own downloading logic.\n",
      "WARNING:tensorflow:From /usr/local/lib/python3.6/dist-packages/tensorflow_core/contrib/learn/python/learn/datasets/mnist.py:262: extract_images (from tensorflow.contrib.learn.python.learn.datasets.mnist) is deprecated and will be removed in a future version.\n",
      "Instructions for updating:\n",
      "Please use tf.data to implement this functionality.\n",
      "Extracting MNIST_data/train-images-idx3-ubyte.gz\n",
      "WARNING:tensorflow:From /usr/local/lib/python3.6/dist-packages/tensorflow_core/contrib/learn/python/learn/datasets/mnist.py:267: extract_labels (from tensorflow.contrib.learn.python.learn.datasets.mnist) is deprecated and will be removed in a future version.\n",
      "Instructions for updating:\n",
      "Please use tf.data to implement this functionality.\n",
      "Extracting MNIST_data/train-labels-idx1-ubyte.gz\n",
      "WARNING:tensorflow:From /usr/local/lib/python3.6/dist-packages/tensorflow_core/contrib/learn/python/learn/datasets/mnist.py:110: dense_to_one_hot (from tensorflow.contrib.learn.python.learn.datasets.mnist) is deprecated and will be removed in a future version.\n",
      "Instructions for updating:\n",
      "Please use tf.one_hot on tensors.\n",
      "Extracting MNIST_data/t10k-images-idx3-ubyte.gz\n",
      "Extracting MNIST_data/t10k-labels-idx1-ubyte.gz\n",
      "WARNING:tensorflow:From /usr/local/lib/python3.6/dist-packages/tensorflow_core/contrib/learn/python/learn/datasets/mnist.py:290: DataSet.__init__ (from tensorflow.contrib.learn.python.learn.datasets.mnist) is deprecated and will be removed in a future version.\n",
      "Instructions for updating:\n",
      "Please use alternatives such as official/mnist/dataset.py from tensorflow/models.\n"
     ]
    }
   ],
   "source": [
    "# Download MNIST dataset\n",
    "mnist = input_data.read_data_sets('MNIST_data', one_hot=True)\n",
    "\n",
    "K= 10 # number of classes"
   ]
  },
  {
   "cell_type": "code",
   "execution_count": 6,
   "metadata": {
    "colab": {
     "base_uri": "https://localhost:8080/",
     "height": 265
    },
    "colab_type": "code",
    "id": "nVy5oNSOy31U",
    "outputId": "635bce6c-11b3-4a5e-fd0f-79d26f68b5f9"
   },
   "outputs": [
    {
     "data": {
      "image/png": "[encoded data removed]",
      "text/plain": [
       "<Figure size 432x288 with 1 Axes>"
      ]
     },
     "metadata": {
      "tags": []
     },
     "output_type": "display_data"
    }
   ],
   "source": [
    "digit_one = mnist.train.images[4].copy()\n",
    "plt.imshow(digit_one.reshape(28,28)) \n",
    "plt.show()"
   ]
  },
  {
   "cell_type": "code",
   "execution_count": 0,
   "metadata": {
    "colab": {},
    "colab_type": "code",
    "id": "7O105bA1y31Z"
   },
   "outputs": [],
   "source": [
    "# define some utility functions\n",
    "def var(name, shape, init=None):\n",
    "    if init is None:\n",
    "        init = tf.truncated_normal_initializer(stddev=(2/shape[0])**0.5)\n",
    "    return tf.get_variable(name=name, shape=shape, dtype=tf.float32,\n",
    "                          initializer=init)\n",
    "\n",
    "def conv(Xin, f, strides=[1, 1, 1, 1], padding='SAME'):\n",
    "    return tf.nn.conv2d(Xin, f, strides, padding)\n",
    "\n",
    "def max_pool(Xin, ksize=[1, 2, 2, 1], strides=[1, 2, 2, 1], padding='SAME'):\n",
    "    return tf.nn.max_pool(Xin, ksize, strides, padding)\n",
    "\n",
    "def rotate_img(x, deg):\n",
    "    import scipy.ndimage as nd\n",
    "    return nd.rotate(x.reshape(28,28),deg,reshape=False).ravel()"
   ]
  },
  {
   "cell_type": "code",
   "execution_count": 0,
   "metadata": {
    "colab": {},
    "colab_type": "code",
    "id": "CINNSCl4y31g"
   },
   "outputs": [],
   "source": [
    "# This method rotates an image counter-clockwise and classify it for different degress of rotation. \n",
    "# It plots the highest classification probability along with the class label for each rotation degree.\n",
    "def rotating_image_classification(img, sess, prob, X, keep_prob, uncertainty=None, prob_threshold=0.5):\n",
    "    Mdeg = 180 \n",
    "    Ndeg = int(Mdeg/10)+1\n",
    "    ldeg = []\n",
    "    lp = []\n",
    "    lu=[]\n",
    "    scores = np.zeros((1,K))\n",
    "    rimgs = np.zeros((28,28*Ndeg))\n",
    "    for i,deg in enumerate(np.linspace(0,Mdeg, Ndeg)):\n",
    "        nimg = rotate_img(img,deg).reshape(28,28)\n",
    "        nimg = np.clip(a=nimg,a_min=0,a_max=1)\n",
    "        rimgs[:,i*28:(i+1)*28] = nimg\n",
    "        if keep_prob is not None:\n",
    "            feed_dict={X:nimg.reshape(1,-1), keep_prob:1.0}\n",
    "        else:\n",
    "            feed_dict={X:nimg.reshape(1,-1)}\n",
    "        if uncertainty is None:\n",
    "            p_pred_t = sess.run(prob, feed_dict=feed_dict)\n",
    "        else:\n",
    "            p_pred_t,u = sess.run([prob,uncertainty], feed_dict=feed_dict)\n",
    "            lu.append(u.mean())\n",
    "        scores += p_pred_t >= prob_threshold\n",
    "        ldeg.append(deg) \n",
    "        lp.append(p_pred_t[0])\n",
    "    \n",
    "    labels = np.arange(10)[scores[0].astype(bool)]\n",
    "    lp = np.array(lp)[:,labels]\n",
    "    c = ['black','blue','red','brown','purple','cyan']\n",
    "    marker = ['s','^','o']*2\n",
    "    labels = labels.tolist()\n",
    "    for i in range(len(labels)):\n",
    "        plt.plot(ldeg,lp[:,i],marker=marker[i],c=c[i])\n",
    "    \n",
    "    if uncertainty is not None:\n",
    "        labels += ['uncertainty']\n",
    "        plt.plot(ldeg,lu,marker='<',c='red')\n",
    "        \n",
    "    plt.legend(labels)\n",
    " \n",
    "    plt.xlim([0,Mdeg])  \n",
    "    plt.xlabel('Rotation Degree')\n",
    "    plt.ylabel('Classification Probability')\n",
    "    plt.show()\n",
    "\n",
    "    plt.figure(figsize=[6.2,100])\n",
    "    plt.imshow(1-rimgs,cmap='gray')\n",
    "    plt.axis('off')\n",
    "    plt.show()"
   ]
  },
  {
   "cell_type": "code",
   "execution_count": 0,
   "metadata": {
    "colab": {},
    "colab_type": "code",
    "id": "OgjYkAuLy31l"
   },
   "outputs": [],
   "source": [
    "def relu_evidence(logits):\n",
    "    return tf.nn.relu(logits)\n",
    "\n",
    "def exp_evidence(logits): \n",
    "    return tf.exp(logits)\n",
    "\n",
    "def loss_EDL(func=tf.digamma):\n",
    "    def loss_func(p, alpha, global_step, annealing_step): \n",
    "        S = tf.reduce_sum(alpha, axis=1, keep_dims=True) \n",
    "        E = alpha - 1\n",
    "    \n",
    "        A = tf.reduce_mean(tf.reduce_sum(p * (func(S) - func(alpha)),1, keepdims=True))\n",
    "    \n",
    "        annealing_coef = tf.minimum(1.0,tf.cast(global_step/annealing_step,tf.float32))\n",
    "    \n",
    "        alp = E*(1-p) + 1 \n",
    "        B =  annealing_coef * KL(alp)\n",
    "    \n",
    "        return (A+B)\n",
    "    return loss_func\n",
    "\n",
    "def KL(alpha):\n",
    "    K=alpha.get_shape()[-1].value\n",
    "    beta=tf.constant(np.ones((1,K)),dtype=tf.float32)\n",
    "    S_alpha = tf.reduce_sum(alpha,axis=1,keep_dims=True)\n",
    "    S_beta = tf.reduce_sum(beta,axis=1,keep_dims=True)\n",
    "    lnB = tf.lgamma(S_alpha) - tf.reduce_sum(tf.lgamma(alpha),axis=1,keep_dims=True)\n",
    "    lnB_uni = tf.reduce_sum(tf.lgamma(beta),axis=1,keep_dims=True) - tf.lgamma(S_beta)\n",
    "    \n",
    "    dg0 = tf.digamma(S_alpha)\n",
    "    dg1 = tf.digamma(alpha)\n",
    "    \n",
    "    kl = tf.reduce_sum((alpha - beta)*(dg1-dg0),axis=1,keep_dims=True) + lnB + lnB_uni\n",
    "    return kl\n",
    "\n",
    "def mse_loss(p, alpha, global_step, annealing_step): \n",
    "    S = tf.reduce_sum(alpha, axis=1, keep_dims=True) \n",
    "    E = alpha - 1\n",
    "    m = alpha / S\n",
    "    \n",
    "    A = tf.reduce_sum((p-m)**2, axis=1, keep_dims=True) \n",
    "    B = tf.reduce_sum(alpha*(S-alpha)/(S*S*(S+1)), axis=1, keep_dims=True) \n",
    "    \n",
    "    annealing_coef = tf.minimum(1.0,tf.cast(global_step/annealing_step,tf.float32))\n",
    "    \n",
    "    alp = E*(1-p) + 1 \n",
    "    C =  annealing_coef * KL(alp)\n",
    "    return (A + B) + C"
   ]
  },
  {
   "cell_type": "code",
   "execution_count": 0,
   "metadata": {
    "colab": {},
    "colab_type": "code",
    "id": "BKdYwkF5y31o"
   },
   "outputs": [],
   "source": [
    "def calc_entropy(p):\n",
    "    return (-p*np.log(p+1e-8)).sum(1)"
   ]
  },
  {
   "cell_type": "code",
   "execution_count": 0,
   "metadata": {
    "colab": {},
    "colab_type": "code",
    "id": "OFELyAeny31t"
   },
   "outputs": [],
   "source": []
  },
  {
   "cell_type": "markdown",
   "metadata": {
    "colab_type": "text",
    "id": "66NievSky31s"
   },
   "source": [
    "# Define the generative models"
   ]
  },
  {
   "cell_type": "code",
   "execution_count": 0,
   "metadata": {
    "colab": {},
    "colab_type": "code",
    "id": "_pCcemcEy31w"
   },
   "outputs": [],
   "source": [
    "def disc(x, name='disc',K=10):\n",
    "    with tf.variable_scope(name, reuse=tf.AUTO_REUSE):\n",
    "        x_inp = tf.reshape(x, [-1, 28, 28, 1])\n",
    "        \n",
    "        regularizer = tf.contrib.layers.l2_regularizer(scale=0.001)\n",
    "\n",
    "\n",
    "        x = tf.layers.conv2d(inputs=x_inp, kernel_size=5, filters=20,\n",
    "                         activation=tf.nn.relu, padding='VALID',\n",
    "                         kernel_regularizer=regularizer,\n",
    "                         kernel_initializer=tf.variance_scaling_initializer())\n",
    "        x = tf.nn.max_pool(x, ksize=[1, 2, 2, 1], strides=[1, 2, 2, 1],\n",
    "                       padding='SAME')\n",
    "\n",
    "        x = tf.layers.conv2d(inputs=x, kernel_size=5, filters=50,\n",
    "                         activation=tf.nn.relu, padding='VALID',\n",
    "                         kernel_regularizer=regularizer,\n",
    "                         kernel_initializer=tf.variance_scaling_initializer())\n",
    "        x = tf.nn.max_pool(x, ksize=[1, 2, 2, 1], strides=[1, 2, 2, 1],\n",
    "                       padding='SAME')\n",
    "\n",
    "        x = tf.layers.flatten(x)\n",
    "\n",
    "        x = tf.layers.dense(inputs=x, units=500, activation=tf.nn.relu,\n",
    "                        kernel_regularizer=regularizer,\n",
    "                        kernel_initializer=tf.variance_scaling_initializer())\n",
    "\n",
    "        x = tf.layers.dense(inputs=x, units=K,\n",
    "                        kernel_regularizer=regularizer,\n",
    "                        kernel_initializer=tf.variance_scaling_initializer())\n",
    "\n",
    "        return x"
   ]
  },
  {
   "cell_type": "code",
   "execution_count": 0,
   "metadata": {
    "colab": {},
    "colab_type": "code",
    "id": "tzw4fevdy311"
   },
   "outputs": [],
   "source": [
    "layers_g = [{'filters': 256, 'kernel_size': [7, 7], 'strides': [1, 1], 'padding': 'valid'},\n",
    "            {'filters': 128, 'kernel_size': [5, 5], 'strides': [2, 2], 'padding': 'same'},\n",
    "            {'filters': 1, 'kernel_size': [5, 5], 'strides': [2, 2], 'padding': 'same'}]\n",
    "    \n",
    "def imgen(x):\n",
    "    if len(x.get_shape()) == 2:\n",
    "        m = x.get_shape()[1]\n",
    "        layer = tf.reshape(x, [-1, 1, 1, m])\n",
    "    else:\n",
    "        layer = x\n",
    "\n",
    "    depth = len(layers_g)\n",
    "    for i in range(depth):\n",
    "        layer_config = layers_g[i]\n",
    "        is_output = ((i + 1) == depth)\n",
    "\n",
    "        conv2d = tf.layers.conv2d_transpose(\n",
    "                    layer, \n",
    "                    filters = layer_config['filters'], \n",
    "                    kernel_size = layer_config['kernel_size'], \n",
    "                    strides = layer_config['strides'], \n",
    "                    padding = layer_config['padding'],\n",
    "                    activation = tf.nn.tanh if is_output else None,\n",
    "                    kernel_initializer = tf.truncated_normal_initializer(stddev=0.02), \n",
    "                    name = 'layer_' + str(i))\n",
    "\n",
    "        if is_output:\n",
    "            layer = conv2d\n",
    "        else:\n",
    "            norm = tf.layers.batch_normalization(conv2d, training=True)\n",
    "            lrelu = tf.nn.leaky_relu(norm)\n",
    "            layer = lrelu\n",
    "                \n",
    "    # [M, img_size, img_size, img_channels]\n",
    "    output = tf.identity(layer, name='generated_images')\n",
    "    return output \n",
    "\n",
    "def encoder(x, n=100):\n",
    "    with tf.variable_scope('encoder', reuse=tf.AUTO_REUSE):\n",
    "        x = tf.reshape(x, [-1, 28, 28, 1])\n",
    "        x = tf.layers.conv2d(x, 20, 5, activation=tf.nn.relu)\n",
    "        x = tf.layers.max_pooling2d(x, 2, 2)\n",
    "\n",
    "        x = tf.layers.conv2d(x, 50, 5, activation=tf.nn.relu)\n",
    "        x = tf.layers.max_pooling2d(x, 2, 2)\n",
    "\n",
    "        x = tf.layers.flatten(x)\n",
    "\n",
    "        loc = tf.layers.dense(x, n)\n",
    "        scale = tf.layers.dense(x, n, tf.nn.softplus)\n",
    "        code = tfd.MultivariateNormalDiag(loc, scale).sample()\n",
    "    return code\n",
    "\n",
    "def make_prior(code_size):\n",
    "    loc = tf.zeros(code_size)\n",
    "    scale = tf.ones(code_size)\n",
    "    return tfd.MultivariateNormalDiag(loc, scale)\n",
    "\n",
    "\n",
    "\n",
    "def decoder(code):\n",
    "    with tf.variable_scope('decoder', reuse=tf.AUTO_REUSE):\n",
    "        recon = imgen(code)\n",
    "    return recon\n",
    "\n",
    "def gen(code):\n",
    "    with tf.variable_scope('gen', reuse=tf.AUTO_REUSE):\n",
    "        n = tf.shape(code)[0]\n",
    "        m = code.get_shape()[1]\n",
    "        x = tf.concat((tf.random_normal(shape=(n, 2)), code), 1)\n",
    "        x = tf.layers.dense(x, 32, tf.nn.leaky_relu)\n",
    "        x = tf.layers.dense(x, 32, tf.nn.leaky_relu)\n",
    "        x = tf.layers.dense(x, 32, tf.nn.leaky_relu)\n",
    "        std = tf.layers.dense(x, m, tf.nn.softplus) \n",
    "    return std\n",
    "\n",
    "def diz(x): # the discriminator in latent space\n",
    "    with tf.variable_scope('diz', reuse=tf.AUTO_REUSE):\n",
    "        regularizer = tf.contrib.layers.l2_regularizer(scale=0.001)\n",
    "        x = tf.layers.dense(x, 32, tf.nn.leaky_relu, kernel_regularizer=regularizer, bias_regularizer=regularizer)\n",
    "        x = tf.layers.dense(x, 32, tf.nn.leaky_relu, kernel_regularizer=regularizer, bias_regularizer=regularizer)\n",
    "        x = tf.layers.dense(x, 32, tf.nn.leaky_relu, kernel_regularizer=regularizer, bias_regularizer=regularizer)\n",
    "        x = tf.layers.dense(x, 1, kernel_regularizer=regularizer, bias_regularizer=regularizer)\n",
    "    return x\n",
    "\n",
    "def wloss(logits, maximize=True ):\n",
    "    labels = tf.ones_like(logits) if maximize else tf.zeros_like(logits)\n",
    "    return tf.reduce_mean(tf.nn.sigmoid_cross_entropy_with_logits(logits=logits, labels=labels))\n",
    "\n",
    "def autoencoder(X=None, n=100):\n",
    "    if X is None:\n",
    "        X = tf.placeholder(shape=[None,28*28], dtype=tf.float32)\n",
    "    code = encoder(X,n) \n",
    "          \n",
    "    std = gen(code)\n",
    "    pdf = tfd.MultivariateNormalDiag(loc=code, scale_diag=(std+1e-3))\n",
    "    fake = pdf.sample()\n",
    "    \n",
    "    rlogits = diz(code)\n",
    "    r_p = tf.nn.sigmoid(rlogits)\n",
    "    \n",
    "    flogits = diz(fake)\n",
    "    f_p = tf.nn.sigmoid(flogits)\n",
    "    \n",
    "    recon = decoder(code) \n",
    "    Xfake = decoder(fake)   \n",
    "    \n",
    "    real_logits = disc(X,'disc0')\n",
    "    real_p = tf.nn.sigmoid(real_logits)\n",
    "    \n",
    "    fake_logits = disc(Xfake,'disc0')\n",
    "    fake_p = tf.nn.sigmoid(fake_logits)\n",
    "        \n",
    "    prior = make_prior(code_size=n)\n",
    "        \n",
    "    kl = -tf.reduce_mean(prior.log_prob(code))\n",
    "    kl_fake = -tf.reduce_mean(prior.log_prob(fake))\n",
    "    \n",
    "        \n",
    "    ae_vars = [v for v in tf.trainable_variables() if 'encoder/' in v.name or 'decoder/' in v.name]\n",
    "    gen_vars = [v for v in tf.trainable_variables() if 'gen/' in v.name]\n",
    "    disc_vars = [v for v in tf.trainable_variables() if 'disc0/' in v.name]\n",
    "    diz_vars = [v for v in tf.trainable_variables() if 'diz/' in v.name]\n",
    "    \n",
    "    \n",
    "    loss_diz = tf.reduce_mean(-tf.log(r_p+1e-8)) + tf.reduce_mean(-tf.log(1-f_p+1e-8)) \n",
    "    \n",
    "    loss_disc = tf.reduce_mean(-tf.log(real_p+1e-8)) + tf.reduce_mean(-tf.log(1-fake_p+1e-8))  \n",
    "    \n",
    "    loss_gen = tf.reduce_mean(-tf.log(1-fake_p+1e-8))  + tf.reduce_mean(-tf.log(f_p+1e-8))\n",
    "    \n",
    "    recon = tf.layers.flatten(recon)\n",
    "    rec_loss = tf.reduce_mean( tf.reduce_sum(tf.square(recon-X),1) + 1e-4) + 0.1*kl\n",
    "    rec_loss += wloss(flogits, False)\n",
    "    rec_step = tf.train.AdamOptimizer().minimize(rec_loss, var_list=ae_vars)\n",
    "        \n",
    "    diz_step = tf.train.RMSPropOptimizer(1e-4).minimize(loss_diz, var_list=diz_vars)\n",
    "    disc_step = tf.train.RMSPropOptimizer(1e-4).minimize(loss_disc, var_list=disc_vars)\n",
    "    gen_step = tf.train.RMSPropOptimizer(1e-4).minimize(loss_gen, var_list=gen_vars)\n",
    "    \n",
    "    rec_step = tf.group([rec_step for _ in range(10)])\n",
    "    \n",
    "    step = tf.group([rec_step, diz_step, disc_step, gen_step])\n",
    "    return X, Xfake, code, recon, rec_loss, step"
   ]
  },
  {
   "cell_type": "code",
   "execution_count": 0,
   "metadata": {
    "colab": {},
    "colab_type": "code",
    "id": "AQlDuf-dy314"
   },
   "outputs": [],
   "source": []
  },
  {
   "cell_type": "code",
   "execution_count": 0,
   "metadata": {
    "colab": {},
    "colab_type": "code",
    "id": "XjExIFqVy318"
   },
   "outputs": [],
   "source": [
    "def misleading_alpha(alpha, y):\n",
    "    K = y.get_shape()[-1].value\n",
    "    indices = tf.where(tf.equal(y, tf.constant(0, dtype=tf.float32)))\n",
    "    alp = tf.gather_nd(alpha, indices)\n",
    "    alp = tf.reshape(alp, [-1, K - 1])\n",
    "    return alp\n",
    "\n",
    "def loss_fn(Y, evidence, real_p, fake_p):\n",
    "    disc_loss = tf.reduce_mean(tf.reduce_sum(-Y * tf.log(real_p + 1e-5), axis=1) +\n",
    "                               tf.reduce_sum(-Y * tf.log((1.0 - fake_p) + 1e-5), axis=1))\n",
    "    alp = misleading_alpha(evidence+1, Y)\n",
    "    disc_loss += tf.reduce_mean(KL(alp))\n",
    "    return disc_loss"
   ]
  },
  {
   "cell_type": "code",
   "execution_count": 0,
   "metadata": {
    "colab": {},
    "colab_type": "code",
    "id": "V2lGdBA5y31_"
   },
   "outputs": [],
   "source": [
    "# train LeNet network with expected mean square error loss\n",
    "def LeNet(logits2evidence=relu_evidence,loss_function=mse_loss, lmb=0.005,K=10):\n",
    "    g = tf.Graph()\n",
    "    with g.as_default():\n",
    "        X = tf.placeholder(shape=[None,28*28], dtype=tf.float32)\n",
    "        Y = tf.placeholder(shape=[None,K], dtype=tf.float32) \n",
    "        adv_eps = tf.placeholder(dtype=tf.float32)   \n",
    "    \n",
    "        recon=None\n",
    "        _, X_fake, code, recon, rec_loss, step_gen = autoencoder(X)\n",
    "        \n",
    "        real_logits = disc(X,K=K)\n",
    "        real_p = tf.nn.sigmoid(real_logits)\n",
    "        \n",
    "        fake_logits = disc(X_fake,K=K)\n",
    "        fake_p = tf.nn.sigmoid(fake_logits)\n",
    "        \n",
    "        evidence = logits2evidence(real_logits)\n",
    "        alpha = evidence + 1\n",
    "        \n",
    "        u = K / tf.reduce_sum(alpha, axis=1, keep_dims=True) #uncertainty\n",
    "        \n",
    "        prob = alpha/tf.reduce_sum(alpha, 1, keepdims=True) \n",
    "        \n",
    "        \n",
    "        var_disc = [v for v in tf.trainable_variables() if 'disc/' in v.name]\n",
    "        \n",
    "        l2_loss = tf.losses.get_regularization_loss()\n",
    "        \n",
    "        disc_loss = tf.reduce_mean(tf.reduce_sum(-Y*tf.log(real_p + 1e-8), axis=1) + \n",
    "                            tf.reduce_sum(-(1-Y)*tf.log(1.0-real_p + 1e-8), axis=1) +\n",
    "                            tf.reduce_sum(-tf.log((1.0-fake_p) + 1e-8), axis=1))\n",
    "        \n",
    "        disc_loss = loss_fn(Y, evidence, real_p, fake_p)\n",
    "        \n",
    "        \n",
    "        step_disc = tf.train.AdamOptimizer().minimize(disc_loss + l2_loss, var_list = var_disc)\n",
    "        \n",
    "        \n",
    "        loss_grads = tf.gradients(disc_loss, X)[0]\n",
    "        adv_x = X + adv_eps * tf.sign(loss_grads) \n",
    "        \n",
    "        step = tf.group([step_disc, step_gen])\n",
    "        \n",
    "        # Calculate accuracy\n",
    "        pred = tf.argmax(real_logits, 1)\n",
    "        truth = tf.argmax(Y, 1)\n",
    "        match = tf.reshape(tf.cast(tf.equal(pred, truth), tf.float32),(-1,1))\n",
    "        acc = tf.reduce_mean(match)\n",
    "        \n",
    "        total_evidence = tf.reduce_sum(evidence,1, keepdims=True) \n",
    "        mean_ev = tf.reduce_mean(total_evidence)\n",
    "        mean_ev_succ = tf.reduce_sum(tf.reduce_sum(evidence,1, keepdims=True)*match) / tf.reduce_sum(match+1e-20)\n",
    "        mean_ev_fail = tf.reduce_sum(tf.reduce_sum(evidence,1, keepdims=True)*(1-match)) / (tf.reduce_sum(tf.abs(1-match))+1e-20) \n",
    "        \n",
    "        return g, step, X, Y, adv_eps, adv_x, recon, prob, acc, disc_loss, u, evidence, mean_ev, mean_ev_succ, mean_ev_fail, real_logits, X_fake"
   ]
  },
  {
   "cell_type": "code",
   "execution_count": 0,
   "metadata": {
    "colab": {},
    "colab_type": "code",
    "id": "pzgZFuUx2vM-"
   },
   "outputs": [],
   "source": []
  },
  {
   "cell_type": "code",
   "execution_count": 15,
   "metadata": {
    "colab": {
     "base_uri": "https://localhost:8080/",
     "height": 663
    },
    "colab_type": "code",
    "id": "nYlQzSpoy32F",
    "outputId": "b4b3fa3a-fea5-4694-84a8-46ce230d2462",
    "scrolled": true
   },
   "outputs": [
    {
     "name": "stdout",
     "output_type": "stream",
     "text": [
      "WARNING:tensorflow:From <ipython-input-12-19bb65e9e78a>:41: conv2d (from tensorflow.python.layers.convolutional) is deprecated and will be removed in a future version.\n",
      "Instructions for updating:\n",
      "Use `tf.keras.layers.Conv2D` instead.\n",
      "WARNING:tensorflow:From /usr/local/lib/python3.6/dist-packages/tensorflow_core/python/layers/convolutional.py:424: Layer.apply (from tensorflow.python.keras.engine.base_layer) is deprecated and will be removed in a future version.\n",
      "Instructions for updating:\n",
      "Please use `layer.__call__` method instead.\n",
      "WARNING:tensorflow:From <ipython-input-12-19bb65e9e78a>:42: max_pooling2d (from tensorflow.python.layers.pooling) is deprecated and will be removed in a future version.\n",
      "Instructions for updating:\n",
      "Use keras.layers.MaxPooling2D instead.\n",
      "WARNING:tensorflow:From <ipython-input-12-19bb65e9e78a>:47: flatten (from tensorflow.python.layers.core) is deprecated and will be removed in a future version.\n",
      "Instructions for updating:\n",
      "Use keras.layers.flatten instead.\n",
      "WARNING:tensorflow:From <ipython-input-12-19bb65e9e78a>:49: dense (from tensorflow.python.layers.core) is deprecated and will be removed in a future version.\n",
      "Instructions for updating:\n",
      "Use keras.layers.Dense instead.\n",
      "WARNING:tensorflow:\n",
      "The TensorFlow contrib module will not be included in TensorFlow 2.0.\n",
      "For more information, please see:\n",
      "  * https://github.com/tensorflow/community/blob/master/rfcs/20180907-contrib-sunset.md\n",
      "  * https://github.com/tensorflow/addons\n",
      "  * https://github.com/tensorflow/io (for I/O related ops)\n",
      "If you depend on functionality not listed there, please file an issue.\n",
      "\n",
      "WARNING:tensorflow:From <ipython-input-12-19bb65e9e78a>:25: conv2d_transpose (from tensorflow.python.layers.convolutional) is deprecated and will be removed in a future version.\n",
      "Instructions for updating:\n",
      "Use `tf.keras.layers.Conv2DTranspose` instead.\n",
      "WARNING:tensorflow:From <ipython-input-12-19bb65e9e78a>:30: batch_normalization (from tensorflow.python.layers.normalization) is deprecated and will be removed in a future version.\n",
      "Instructions for updating:\n",
      "Use keras.layers.BatchNormalization instead.  In particular, `tf.control_dependencies(tf.GraphKeys.UPDATE_OPS)` should not be used (consult the `tf.keras.layers.batch_normalization` documentation).\n",
      "WARNING:tensorflow:From /usr/local/lib/python3.6/dist-packages/tensorflow_core/python/ops/nn_impl.py:183: where (from tensorflow.python.ops.array_ops) is deprecated and will be removed in a future version.\n",
      "Instructions for updating:\n",
      "Use tf.where in 2.0, which has the same broadcast rule as np.where\n",
      "WARNING:tensorflow:From /usr/local/lib/python3.6/dist-packages/tensorflow_core/python/training/rmsprop.py:119: calling Ones.__init__ (from tensorflow.python.ops.init_ops) with dtype is deprecated and will be removed in a future version.\n",
      "Instructions for updating:\n",
      "Call initializer instance with the dtype argument instead of passing it to the constructor\n",
      "WARNING:tensorflow:From <ipython-input-14-a2f9fc047b94>:20: calling reduce_sum_v1 (from tensorflow.python.ops.math_ops) with keep_dims is deprecated and will be removed in a future version.\n",
      "Instructions for updating:\n",
      "keep_dims is deprecated, use keepdims instead\n"
     ]
    }
   ],
   "source": [
    "g, step, X, Y, adv_eps, adv_x, recon, prob, acc, loss, u, evidence, mean_ev, mean_ev_succ, mean_ev_fail, logits, X_fake = LeNet(exp_evidence)"
   ]
  },
  {
   "cell_type": "code",
   "execution_count": 0,
   "metadata": {
    "colab": {},
    "colab_type": "code",
    "id": "d1-8cGG9y32K",
    "scrolled": false
   },
   "outputs": [],
   "source": [
    "sess = tf.Session(graph=g)\n",
    "with g.as_default():\n",
    "    sess.run(tf.global_variables_initializer())"
   ]
  },
  {
   "cell_type": "code",
   "execution_count": 0,
   "metadata": {
    "colab": {},
    "colab_type": "code",
    "id": "f-_DPlJHy32N"
   },
   "outputs": [],
   "source": []
  },
  {
   "cell_type": "code",
   "execution_count": 0,
   "metadata": {
    "colab": {},
    "colab_type": "code",
    "id": "vVIbNNl2y32V"
   },
   "outputs": [],
   "source": [
    "def get_dataset(dataset,labels, digits):\n",
    "    digits=np.array([digits])\n",
    "    y = labels.argmax(1)[:,None] ==digits\n",
    "    indx = (y.sum(1) > 0)\n",
    "    return dataset[indx],y[indx].astype(float)\n",
    "\n",
    "def next_batch(data,labels, i, bsz):\n",
    "    i = i % (data.shape[0]//bsz)\n",
    "    return data[i*bsz:(i+1)*bsz], labels[i*bsz:(i+1)*bsz], np.arange(data.shape[0])[i*bsz:(i+1)*bsz]"
   ]
  },
  {
   "cell_type": "code",
   "execution_count": 0,
   "metadata": {
    "colab": {},
    "colab_type": "code",
    "id": "SIoZ_bNjy32Y"
   },
   "outputs": [],
   "source": [
    "in_labels = [1,8]\n",
    "out_labels = list(set(range(10))-set(in_labels))\n",
    "x_train, y_train = get_dataset(mnist.train.images,mnist.train.labels,in_labels)\n",
    "x_test,y_test = get_dataset(mnist.test.images,mnist.test.labels,in_labels)\n",
    "x_out, y_out = get_dataset(mnist.test.images,mnist.test.labels,out_labels)"
   ]
  },
  {
   "cell_type": "code",
   "execution_count": 0,
   "metadata": {
    "colab": {},
    "colab_type": "code",
    "id": "haZIDuHty32a"
   },
   "outputs": [],
   "source": [
    "x_train, y_train =  mnist.train.images,mnist.train.labels\n",
    "x_test,y_test =  mnist.test.images,mnist.test.labels"
   ]
  },
  {
   "cell_type": "code",
   "execution_count": 0,
   "metadata": {
    "colab": {},
    "colab_type": "code",
    "id": "-FFOafgyy32e"
   },
   "outputs": [],
   "source": []
  },
  {
   "cell_type": "code",
   "execution_count": 0,
   "metadata": {
    "colab": {},
    "colab_type": "code",
    "id": "6g3esowVy32g"
   },
   "outputs": [],
   "source": [
    "bsize = 1000 #batch size\n",
    "n_batches = mnist.train.num_examples // bsize\n",
    "L_train_acc1=[]\n",
    "L_train_ev_s=[]\n",
    "L_train_ev_f=[]\n",
    "L_test_acc1=[]\n",
    "L_test_ev_s=[]\n",
    "L_test_ev_f=[]\n",
    "for epoch in range(0,100):   \n",
    "    for i in range(n_batches):\n",
    "        \n",
    "        #data, label = mnist.train.next_batch(bsize)\n",
    "        data,label,_ = next_batch(x_train,y_train, i,bsize)\n",
    "        \n",
    "        feed_dict={X:data, Y:label}\n",
    "        sess.run(step,feed_dict)\n",
    "        print('epoch %d - %d%%) '% (epoch+1, (100*(i+1))//n_batches), end='\\r' if i<n_batches-1 else '')\n",
    "        \n",
    "    train_acc, train_succ, train_fail = sess.run([acc,mean_ev_succ,mean_ev_fail], \n",
    "                                                  feed_dict={X:x_train,Y:y_train})\n",
    "    test_acc, test_succ, test_fail = sess.run([acc,mean_ev_succ,mean_ev_fail], \n",
    "                                               feed_dict={X:x_test,Y:y_test})\n",
    "    \n",
    "    L_train_acc1.append(train_acc)\n",
    "    L_train_ev_s.append(train_succ)\n",
    "    L_train_ev_f.append(train_fail)\n",
    "    \n",
    "    L_test_acc1.append(test_acc)\n",
    "    L_test_ev_s.append(test_succ)\n",
    "    L_test_ev_f.append(test_fail)\n",
    "    \n",
    "    print('training: %2.4f (%2.4f - %2.4f) \\t testing: %2.4f (%2.4f - %2.4f)' % \n",
    "          (train_acc, train_succ, train_fail, test_acc, test_succ, test_fail))"
   ]
  },
  {
   "cell_type": "markdown",
   "metadata": {
    "colab_type": "text",
    "id": "MeacbdPjLmih"
   },
   "source": [
    "# Some generated fake images"
   ]
  },
  {
   "cell_type": "code",
   "execution_count": 0,
   "metadata": {
    "colab": {},
    "colab_type": "code",
    "id": "ZjZDEH8Ay32h"
   },
   "outputs": [],
   "source": [
    "def get_image(data):\n",
    "    n = int(data.shape[0]**0.5)\n",
    "    m = int(np.ceil(data.shape[0]/n))\n",
    "    I = np.zeros((n*28,m*28))\n",
    "    for i in range(n):\n",
    "        for j in range(m):\n",
    "            I[i*28:(i+1)*28,j*28:(j+1)*28] = data[i*m+j].reshape(28,28)\n",
    "    return I"
   ]
  },
  {
   "cell_type": "code",
   "execution_count": 22,
   "metadata": {
    "colab": {
     "base_uri": "https://localhost:8080/",
     "height": 221
    },
    "colab_type": "code",
    "id": "Ln0OUxjIy32m",
    "outputId": "60e47242-aa71-474e-842a-6e739837c373"
   },
   "outputs": [
    {
     "data": {
      "text/plain": [
       "<matplotlib.image.AxesImage at 0x7f9aa0058860>"
      ]
     },
     "execution_count": 22,
     "metadata": {
      "tags": []
     },
     "output_type": "execute_result"
    },
    {
     "data": {
      "image/png": "[encoded data removed]",
      "text/plain": [
       "<Figure size 432x288 with 2 Axes>"
      ]
     },
     "metadata": {
      "tags": []
     },
     "output_type": "display_data"
    }
   ],
   "source": [
    "org = get_image(x_test[100:200])\n",
    "fake = get_image(sess.run(X_fake, {X:x_test[100:200]})[:,:,:,0])\n",
    "plt.subplot(1,2,1)\n",
    "plt.imshow(org)\n",
    "plt.subplot(1,2,2)\n",
    "plt.imshow(fake)"
   ]
  },
  {
   "cell_type": "code",
   "execution_count": 0,
   "metadata": {
    "colab": {},
    "colab_type": "code",
    "id": "MR-QtGrGy32o"
   },
   "outputs": [],
   "source": []
  },
  {
   "cell_type": "code",
   "execution_count": 0,
   "metadata": {
    "colab": {},
    "colab_type": "code",
    "id": "kfYJ-H66y32r"
   },
   "outputs": [],
   "source": []
  },
  {
   "cell_type": "markdown",
   "metadata": {
    "colab_type": "text",
    "id": "8-JSglc_LvSV"
   },
   "source": [
    "# Image Rotation Test"
   ]
  },
  {
   "cell_type": "code",
   "execution_count": 0,
   "metadata": {
    "colab": {},
    "colab_type": "code",
    "id": "ed2HWQrDy32t"
   },
   "outputs": [],
   "source": [
    "def roc_test(x_test=x_test, x_out=x_out):\n",
    "    normal = x_test\n",
    "    anormal = x_out[:normal.shape[0]]\n",
    "    truth = np.ones((normal.shape[0]+anormal.shape[0],))\n",
    "    truth[normal.shape[0]:]=0\n",
    "    imgs = np.concatenate((normal,anormal),0)\n",
    "    ev = sess.run(evidence, feed_dict={X:imgs}).sum(1)\n",
    "\n",
    "    fpr, tpr, roc_thresholds = roc_curve(truth, ev)\n",
    "    roc_auc = auc(fpr, tpr)\n",
    "\n",
    "    print('roc:',roc_auc)"
   ]
  },
  {
   "cell_type": "code",
   "execution_count": 24,
   "metadata": {
    "colab": {
     "base_uri": "https://localhost:8080/",
     "height": 34
    },
    "colab_type": "code",
    "id": "vqT7I3y3y32v",
    "outputId": "3641ef68-0529-438d-de28-982b24ab2b13"
   },
   "outputs": [
    {
     "name": "stdout",
     "output_type": "stream",
     "text": [
      "roc: 0.5263634710429603\n"
     ]
    }
   ],
   "source": [
    "roc_test()"
   ]
  },
  {
   "cell_type": "code",
   "execution_count": 25,
   "metadata": {
    "colab": {
     "base_uri": "https://localhost:8080/",
     "height": 311
    },
    "colab_type": "code",
    "id": "Xw2Q79fNy32x",
    "outputId": "6f1ebb27-5b74-4da4-cf64-88e29b2a4900"
   },
   "outputs": [
    {
     "data": {
      "image/png": "[encoded data removed]",
      "text/plain": [
       "<Figure size 432x288 with 1 Axes>"
      ]
     },
     "metadata": {
      "tags": []
     },
     "output_type": "display_data"
    },
    {
     "data": {
      "image/png": "[encoded data removed]",
      "text/plain": [
       "<Figure size 446.4x7200 with 1 Axes>"
      ]
     },
     "metadata": {
      "tags": []
     },
     "output_type": "display_data"
    }
   ],
   "source": [
    "rotating_image_classification(digit_one, sess, prob, X, None, u, prob_threshold=0.2)"
   ]
  },
  {
   "cell_type": "code",
   "execution_count": 0,
   "metadata": {
    "colab": {},
    "colab_type": "code",
    "id": "H7k0ZQEQy32z"
   },
   "outputs": [],
   "source": []
  },
  {
   "cell_type": "markdown",
   "metadata": {
    "colab_type": "text",
    "id": "dAjqcbpeKrhf"
   },
   "source": [
    "# Entropy as Predictive Uncertainy (correct vs wrong predictions)"
   ]
  },
  {
   "cell_type": "code",
   "execution_count": 0,
   "metadata": {
    "colab": {},
    "colab_type": "code",
    "id": "MkvDo0jpy322"
   },
   "outputs": [],
   "source": [
    "test_acc, ev = sess.run([acc,evidence], feed_dict={X:mnist.test.images,Y:mnist.test.labels})"
   ]
  },
  {
   "cell_type": "code",
   "execution_count": 0,
   "metadata": {
    "colab": {},
    "colab_type": "code",
    "id": "D8N3GlQcy323"
   },
   "outputs": [],
   "source": []
  },
  {
   "cell_type": "code",
   "execution_count": 0,
   "metadata": {
    "colab": {},
    "colab_type": "code",
    "id": "ztENACNBy325"
   },
   "outputs": [],
   "source": [
    "match = (ev.argmax(1)==mnist.test.labels.argmax(1))\n",
    "succ_ev = ev[match]\n",
    "fail_ev = ev[(1-match).astype(bool)]\n",
    "\n",
    "u_succ = 10/(10+succ_ev.sum(1))\n",
    "u_fail = 10/(10+fail_ev.sum(1))\n",
    "\n",
    "p_succ = (succ_ev+1)/(10+succ_ev.sum(1,keepdims=True))\n",
    "p_fail = (fail_ev+1)/(10+fail_ev.sum(1,keepdims=True))"
   ]
  },
  {
   "cell_type": "code",
   "execution_count": 28,
   "metadata": {
    "colab": {
     "base_uri": "https://localhost:8080/",
     "height": 350
    },
    "colab_type": "code",
    "id": "OpKRxUIRy328",
    "outputId": "467035fb-80e9-4c92-fbe1-db7c0452cfa0"
   },
   "outputs": [
    {
     "data": {
      "text/plain": [
       "(array([ 1.,  0.,  1.,  1.,  1.,  1.,  1.,  6., 11., 87.]),\n",
       " array([0.5332799 , 0.7102089 , 0.88713795, 1.064067  , 1.240996  ,\n",
       "        1.417925  , 1.594854  , 1.771783  , 1.9487121 , 2.125641  ,\n",
       "        2.30257   ], dtype=float32),\n",
       " <a list of 10 Patch objects>)"
      ]
     },
     "execution_count": 28,
     "metadata": {
      "tags": []
     },
     "output_type": "execute_result"
    },
    {
     "data": {
      "image/png": "[encoded data removed]",
      "text/plain": [
       "<Figure size 432x288 with 1 Axes>"
      ]
     },
     "metadata": {
      "tags": []
     },
     "output_type": "display_data"
    }
   ],
   "source": [
    "plt.hist(calc_entropy(p_fail))"
   ]
  },
  {
   "cell_type": "code",
   "execution_count": 29,
   "metadata": {
    "colab": {
     "base_uri": "https://localhost:8080/",
     "height": 367
    },
    "colab_type": "code",
    "id": "ZYB6CJAgy32-",
    "outputId": "0de1e507-e66e-4031-da17-850e74c6082c"
   },
   "outputs": [
    {
     "data": {
      "text/plain": [
       "(array([3767., 1654., 1005.,  653.,  508.,  487.,  394.,  336.,  375.,\n",
       "         711.]),\n",
       " array([0.00519714, 0.2349359 , 0.46467465, 0.69441336, 0.92415214,\n",
       "        1.1538908 , 1.3836297 , 1.6133684 , 1.8431071 , 2.072846  ,\n",
       "        2.3025846 ], dtype=float32),\n",
       " <a list of 10 Patch objects>)"
      ]
     },
     "execution_count": 29,
     "metadata": {
      "tags": []
     },
     "output_type": "execute_result"
    },
    {
     "data": {
      "image/png": "[encoded data removed]",
      "text/plain": [
       "<Figure size 432x288 with 1 Axes>"
      ]
     },
     "metadata": {
      "tags": []
     },
     "output_type": "display_data"
    }
   ],
   "source": [
    "plt.hist(calc_entropy(p_succ))"
   ]
  },
  {
   "cell_type": "markdown",
   "metadata": {
    "colab_type": "text",
    "id": "3EwDN6LuL5hj"
   },
   "source": [
    "# Subjective Logic's Uncertainty (K/S)"
   ]
  },
  {
   "cell_type": "code",
   "execution_count": 30,
   "metadata": {
    "colab": {
     "base_uri": "https://localhost:8080/",
     "height": 265
    },
    "colab_type": "code",
    "id": "gj93Me9iy33C",
    "outputId": "9fe207fc-5076-431b-f75a-f0be45701cb0"
   },
   "outputs": [
    {
     "data": {
      "image/png": "[encoded data removed]",
      "text/plain": [
       "<Figure size 432x288 with 1 Axes>"
      ]
     },
     "metadata": {
      "tags": []
     },
     "output_type": "display_data"
    }
   ],
   "source": [
    "a_=plt.hist(u_succ, bins='auto')"
   ]
  },
  {
   "cell_type": "code",
   "execution_count": 31,
   "metadata": {
    "colab": {
     "base_uri": "https://localhost:8080/",
     "height": 265
    },
    "colab_type": "code",
    "id": "mxkCJfT4y33F",
    "outputId": "56ac6dcc-0571-4ade-9204-5fa630b21f7f"
   },
   "outputs": [
    {
     "data": {
      "image/png": "[encoded data removed]",
      "text/plain": [
       "<Figure size 432x288 with 1 Axes>"
      ]
     },
     "metadata": {
      "tags": []
     },
     "output_type": "display_data"
    }
   ],
   "source": [
    "a_=plt.hist(u_fail, bins='auto')"
   ]
  },
  {
   "cell_type": "markdown",
   "metadata": {
    "colab_type": "text",
    "id": "bDN0Yz1eb0KZ"
   },
   "source": [
    "# Emprical PDF for Entropy for Out-of-Distribution (OoD) Samples"
   ]
  },
  {
   "cell_type": "code",
   "execution_count": 0,
   "metadata": {
    "colab": {},
    "colab_type": "code",
    "id": "5rPFvTJ3y33I"
   },
   "outputs": [],
   "source": [
    "p_OoD=sess.run(prob, feed_dict={X:OoD.reshape(-1,28*28)})"
   ]
  },
  {
   "cell_type": "code",
   "execution_count": 0,
   "metadata": {
    "colab": {},
    "colab_type": "code",
    "id": "10d0HAs1y33J"
   },
   "outputs": [],
   "source": [
    "def entropy(p):\n",
    "    return (-p*np.log(p+1e-8)).sum(1)"
   ]
  },
  {
   "cell_type": "code",
   "execution_count": 0,
   "metadata": {
    "colab": {},
    "colab_type": "code",
    "id": "C8PCRJ1Qy33L"
   },
   "outputs": [],
   "source": [
    "def empCDF(entropy,n=10): \n",
    "    x = np.linspace(0,np.log(n), 1000)\n",
    "    y = np.zeros_like(x)\n",
    "    for i, val in enumerate(x):\n",
    "        y[i] = np.mean(entropy<=val)\n",
    "    return entropy, x,y"
   ]
  },
  {
   "cell_type": "code",
   "execution_count": 0,
   "metadata": {
    "colab": {},
    "colab_type": "code",
    "id": "bJcNub-ly33N"
   },
   "outputs": [],
   "source": [
    "_,x,y=empCDF(entropy(p_OoD))"
   ]
  },
  {
   "cell_type": "code",
   "execution_count": 0,
   "metadata": {
    "colab": {},
    "colab_type": "code",
    "id": "ix4Zk-yly33P"
   },
   "outputs": [],
   "source": [
    "np.save('entropy_mnist_edl_gan_outlier',entropy)"
   ]
  },
  {
   "cell_type": "code",
   "execution_count": 37,
   "metadata": {
    "colab": {
     "base_uri": "https://localhost:8080/",
     "height": 282
    },
    "colab_type": "code",
    "id": "z1sTyUg3y33R",
    "outputId": "f3cc5e15-0974-4f76-df63-b9ee1cd3025d"
   },
   "outputs": [
    {
     "data": {
      "text/plain": [
       "[<matplotlib.lines.Line2D at 0x7f9a55d9b748>]"
      ]
     },
     "execution_count": 37,
     "metadata": {
      "tags": []
     },
     "output_type": "execute_result"
    },
    {
     "data": {
      "image/png": "[encoded data removed]",
      "text/plain": [
       "<Figure size 432x288 with 1 Axes>"
      ]
     },
     "metadata": {
      "tags": []
     },
     "output_type": "display_data"
    }
   ],
   "source": [
    "plt.plot(x,y)"
   ]
  },
  {
   "cell_type": "markdown",
   "metadata": {
    "colab_type": "text",
    "id": "r-3QP_eUcJYd"
   },
   "source": [
    "# Emprical PDF for Entropy for correct and wrong predictions"
   ]
  },
  {
   "cell_type": "code",
   "execution_count": 0,
   "metadata": {
    "colab": {},
    "colab_type": "code",
    "id": "5yZphs5vy33U"
   },
   "outputs": [],
   "source": [
    "_,x1,y1=empCDF(entropy(p_succ))"
   ]
  },
  {
   "cell_type": "code",
   "execution_count": 39,
   "metadata": {
    "colab": {
     "base_uri": "https://localhost:8080/",
     "height": 286
    },
    "colab_type": "code",
    "id": "H9Yv41Umy33X",
    "outputId": "52a87772-e80b-4c5c-8328-d9aff96dc588"
   },
   "outputs": [
    {
     "data": {
      "text/plain": [
       "(0, 1)"
      ]
     },
     "execution_count": 39,
     "metadata": {
      "tags": []
     },
     "output_type": "execute_result"
    },
    {
     "data": {
      "image/png": "[encoded data removed]",
      "text/plain": [
       "<Figure size 432x288 with 1 Axes>"
      ]
     },
     "metadata": {
      "tags": []
     },
     "output_type": "display_data"
    }
   ],
   "source": [
    "_,x2,y2=empCDF(entropy(p_fail))\n",
    "plt.plot(x1,y1)\n",
    "plt.plot(x2,y2)\n",
    "plt.xlim([0,np.log(10)])\n",
    "plt.ylim([0,1])"
   ]
  },
  {
   "cell_type": "code",
   "execution_count": 0,
   "metadata": {
    "colab": {},
    "colab_type": "code",
    "id": "rBJYDYKZy33Y"
   },
   "outputs": [],
   "source": []
  },
  {
   "cell_type": "markdown",
   "metadata": {
    "colab_type": "text",
    "id": "b0vVvCvhcl5q"
   },
   "source": [
    "# OoD Detection using Entropy of Predictions"
   ]
  },
  {
   "cell_type": "code",
   "execution_count": 0,
   "metadata": {
    "colab": {},
    "colab_type": "code",
    "id": "xO0m1baby33d"
   },
   "outputs": [],
   "source": [
    "normal = mnist.test.images\n",
    "anormal = OoD.reshape(-1,28*28)\n",
    "\n",
    "truth = np.ones((normal.shape[0]+anormal.shape[0],))\n",
    "truth[normal.shape[0]:]=0\n",
    "imgs = np.concatenate((normal,anormal),0)"
   ]
  },
  {
   "cell_type": "code",
   "execution_count": 0,
   "metadata": {
    "colab": {},
    "colab_type": "code",
    "id": "a5j69J0iy33e"
   },
   "outputs": [],
   "source": [
    "ev = sess.run(evidence, feed_dict={X:imgs})"
   ]
  },
  {
   "cell_type": "code",
   "execution_count": 0,
   "metadata": {
    "colab": {},
    "colab_type": "code",
    "id": "Gik_g5ify33g"
   },
   "outputs": [],
   "source": [
    "from sklearn.metrics import roc_curve, precision_recall_curve, auc\n",
    "\n",
    "fpr, tpr, roc_thresholds = roc_curve(truth, ev.sum(1))\n",
    "roc_auc = auc(fpr, tpr)"
   ]
  },
  {
   "cell_type": "code",
   "execution_count": 43,
   "metadata": {
    "colab": {
     "base_uri": "https://localhost:8080/",
     "height": 34
    },
    "colab_type": "code",
    "id": "9U9zal27y33k",
    "outputId": "be1720b6-d84f-42ee-8391-2d56c7336097"
   },
   "outputs": [
    {
     "data": {
      "text/plain": [
       "0.9993710499999999"
      ]
     },
     "execution_count": 43,
     "metadata": {
      "tags": []
     },
     "output_type": "execute_result"
    }
   ],
   "source": [
    "roc_auc"
   ]
  },
  {
   "cell_type": "code",
   "execution_count": 44,
   "metadata": {
    "colab": {
     "base_uri": "https://localhost:8080/",
     "height": 282
    },
    "colab_type": "code",
    "id": "OtdgPMjey33o",
    "outputId": "fcfe56d4-329c-41a8-e2b4-d4feb4876c3d"
   },
   "outputs": [
    {
     "data": {
      "text/plain": [
       "[<matplotlib.lines.Line2D at 0x7f9a55ccfb70>]"
      ]
     },
     "execution_count": 44,
     "metadata": {
      "tags": []
     },
     "output_type": "execute_result"
    },
    {
     "data": {
      "image/png": "[encoded data removed]",
      "text/plain": [
       "<Figure size 432x288 with 1 Axes>"
      ]
     },
     "metadata": {
      "tags": []
     },
     "output_type": "display_data"
    }
   ],
   "source": [
    "plt.plot(fpr,tpr)"
   ]
  },
  {
   "cell_type": "code",
   "execution_count": 0,
   "metadata": {
    "colab": {},
    "colab_type": "code",
    "id": "Nfkp_YiNy33p"
   },
   "outputs": [],
   "source": []
  },
  {
   "cell_type": "code",
   "execution_count": 0,
   "metadata": {
    "colab": {},
    "colab_type": "code",
    "id": "E3JWrt6s0s_1"
   },
   "outputs": [],
   "source": []
  }
 ],
 "metadata": {
  "accelerator": "GPU",
  "colab": {
   "collapsed_sections": [],
   "name": "gen.ipynb",
   "provenance": []
  },
  "kernelspec": {
   "display_name": "Python 3",
   "language": "python",
   "name": "python3"
  },
  "language_info": {
   "codemirror_mode": {
    "name": "ipython",
    "version": 3
   },
   "file_extension": ".py",
   "mimetype": "text/x-python",
   "name": "python",
   "nbconvert_exporter": "python",
   "pygments_lexer": "ipython3",
   "version": "3.6.0"
  }
 },
 "nbformat": 4,
 "nbformat_minor": 1
}
